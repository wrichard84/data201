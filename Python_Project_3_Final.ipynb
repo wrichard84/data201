{
  "nbformat": 4,
  "nbformat_minor": 0,
  "metadata": {
    "colab": {
      "name": "Python Project 3 - Final.ipynb",
      "provenance": [],
      "authorship_tag": "ABX9TyP+audRGKa/krD+km5XFYI9",
      "include_colab_link": true
    },
    "kernelspec": {
      "name": "python3",
      "display_name": "Python 3"
    },
    "language_info": {
      "name": "python"
    }
  },
  "cells": [
    {
      "cell_type": "markdown",
      "metadata": {
        "id": "view-in-github",
        "colab_type": "text"
      },
      "source": [
        "<a href=\"https://colab.research.google.com/github/wrichard84/data201/blob/main/Python_Project_3_Final.ipynb\" target=\"_parent\"><img src=\"https://colab.research.google.com/assets/colab-badge.svg\" alt=\"Open In Colab\"/></a>"
      ]
    },
    {
      "cell_type": "code",
      "execution_count": 1,
      "metadata": {
        "id": "mmHt1tWkveyz"
      },
      "outputs": [],
      "source": [
        "import pandas as pd\n",
        "import matplotlib.pyplot as plot\n",
        "import numpy as np\n",
        "import seaborn as sns\n",
        "%matplotlib inline"
      ]
    },
    {
      "cell_type": "code",
      "source": [
        "df = pd.read_csv('https://raw.githubusercontent.com/wrichard84/data_files/main/NYPD_Arrest_Data__Year_to_Date_.csv')"
      ],
      "metadata": {
        "id": "4R0VC4C_8HHf"
      },
      "execution_count": 2,
      "outputs": []
    },
    {
      "cell_type": "code",
      "source": [
        "df.head()"
      ],
      "metadata": {
        "id": "5U7KBp2-8KW_",
        "outputId": "eca16d9a-918a-4e84-f808-b5196ce01cc4",
        "colab": {
          "base_uri": "https://localhost:8080/",
          "height": 496
        }
      },
      "execution_count": 3,
      "outputs": [
        {
          "output_type": "execute_result",
          "data": {
            "text/html": [
              "\n",
              "  <div id=\"df-8377e2b2-98cc-4b0e-90d8-12d801049b10\">\n",
              "    <div class=\"colab-df-container\">\n",
              "      <div>\n",
              "<style scoped>\n",
              "    .dataframe tbody tr th:only-of-type {\n",
              "        vertical-align: middle;\n",
              "    }\n",
              "\n",
              "    .dataframe tbody tr th {\n",
              "        vertical-align: top;\n",
              "    }\n",
              "\n",
              "    .dataframe thead th {\n",
              "        text-align: right;\n",
              "    }\n",
              "</style>\n",
              "<table border=\"1\" class=\"dataframe\">\n",
              "  <thead>\n",
              "    <tr style=\"text-align: right;\">\n",
              "      <th></th>\n",
              "      <th>ARREST_KEY</th>\n",
              "      <th>ARREST_DATE</th>\n",
              "      <th>PD_CD</th>\n",
              "      <th>PD_DESC</th>\n",
              "      <th>KY_CD</th>\n",
              "      <th>OFNS_DESC</th>\n",
              "      <th>LAW_CODE</th>\n",
              "      <th>LAW_CAT_CD</th>\n",
              "      <th>ARREST_BORO</th>\n",
              "      <th>ARREST_PRECINCT</th>\n",
              "      <th>JURISDICTION_CODE</th>\n",
              "      <th>AGE_GROUP</th>\n",
              "      <th>PERP_SEX</th>\n",
              "      <th>PERP_RACE</th>\n",
              "      <th>X_COORD_CD</th>\n",
              "      <th>Y_COORD_CD</th>\n",
              "      <th>Latitude</th>\n",
              "      <th>Longitude</th>\n",
              "      <th>New Georeferenced Column</th>\n",
              "    </tr>\n",
              "  </thead>\n",
              "  <tbody>\n",
              "    <tr>\n",
              "      <th>0</th>\n",
              "      <td>234233843</td>\n",
              "      <td>09/29/2021</td>\n",
              "      <td>105.0</td>\n",
              "      <td>STRANGULATION 1ST</td>\n",
              "      <td>106.0</td>\n",
              "      <td>FELONY ASSAULT</td>\n",
              "      <td>PL 1211200</td>\n",
              "      <td>F</td>\n",
              "      <td>B</td>\n",
              "      <td>42</td>\n",
              "      <td>0</td>\n",
              "      <td>25-44</td>\n",
              "      <td>M</td>\n",
              "      <td>BLACK</td>\n",
              "      <td>1009231</td>\n",
              "      <td>240290</td>\n",
              "      <td>40.826189</td>\n",
              "      <td>-73.909738</td>\n",
              "      <td>POINT (-73.90973778899996 40.82618898100003)</td>\n",
              "    </tr>\n",
              "    <tr>\n",
              "      <th>1</th>\n",
              "      <td>234129823</td>\n",
              "      <td>09/27/2021</td>\n",
              "      <td>157.0</td>\n",
              "      <td>RAPE 1</td>\n",
              "      <td>104.0</td>\n",
              "      <td>RAPE</td>\n",
              "      <td>PL 1303501</td>\n",
              "      <td>F</td>\n",
              "      <td>K</td>\n",
              "      <td>77</td>\n",
              "      <td>0</td>\n",
              "      <td>25-44</td>\n",
              "      <td>M</td>\n",
              "      <td>BLACK</td>\n",
              "      <td>1003606</td>\n",
              "      <td>185050</td>\n",
              "      <td>40.674583</td>\n",
              "      <td>-73.930222</td>\n",
              "      <td>POINT (-73.93022154099998 40.67458330800008)</td>\n",
              "    </tr>\n",
              "    <tr>\n",
              "      <th>2</th>\n",
              "      <td>234040747</td>\n",
              "      <td>09/25/2021</td>\n",
              "      <td>109.0</td>\n",
              "      <td>ASSAULT 2,1,UNCLASSIFIED</td>\n",
              "      <td>106.0</td>\n",
              "      <td>FELONY ASSAULT</td>\n",
              "      <td>PL 1200501</td>\n",
              "      <td>F</td>\n",
              "      <td>Q</td>\n",
              "      <td>101</td>\n",
              "      <td>0</td>\n",
              "      <td>25-44</td>\n",
              "      <td>M</td>\n",
              "      <td>BLACK</td>\n",
              "      <td>1049232</td>\n",
              "      <td>159210</td>\n",
              "      <td>40.603441</td>\n",
              "      <td>-73.765986</td>\n",
              "      <td>POINT (-73.76598558899997 40.60344094100003)</td>\n",
              "    </tr>\n",
              "    <tr>\n",
              "      <th>3</th>\n",
              "      <td>234047720</td>\n",
              "      <td>09/25/2021</td>\n",
              "      <td>101.0</td>\n",
              "      <td>ASSAULT 3</td>\n",
              "      <td>344.0</td>\n",
              "      <td>ASSAULT 3 &amp; RELATED OFFENSES</td>\n",
              "      <td>PL 1200001</td>\n",
              "      <td>M</td>\n",
              "      <td>B</td>\n",
              "      <td>44</td>\n",
              "      <td>0</td>\n",
              "      <td>25-44</td>\n",
              "      <td>M</td>\n",
              "      <td>BLACK</td>\n",
              "      <td>1006537</td>\n",
              "      <td>244511</td>\n",
              "      <td>40.837782</td>\n",
              "      <td>-73.919458</td>\n",
              "      <td>POINT (-73.91945797099999 40.83778161800007)</td>\n",
              "    </tr>\n",
              "    <tr>\n",
              "      <th>4</th>\n",
              "      <td>234042526</td>\n",
              "      <td>09/25/2021</td>\n",
              "      <td>101.0</td>\n",
              "      <td>ASSAULT 3</td>\n",
              "      <td>344.0</td>\n",
              "      <td>ASSAULT 3 &amp; RELATED OFFENSES</td>\n",
              "      <td>PL 1200001</td>\n",
              "      <td>M</td>\n",
              "      <td>B</td>\n",
              "      <td>44</td>\n",
              "      <td>0</td>\n",
              "      <td>25-44</td>\n",
              "      <td>M</td>\n",
              "      <td>BLACK</td>\n",
              "      <td>1007418</td>\n",
              "      <td>243859</td>\n",
              "      <td>40.835990</td>\n",
              "      <td>-73.916276</td>\n",
              "      <td>POINT (-73.91627635999998 40.83598980000005)</td>\n",
              "    </tr>\n",
              "  </tbody>\n",
              "</table>\n",
              "</div>\n",
              "      <button class=\"colab-df-convert\" onclick=\"convertToInteractive('df-8377e2b2-98cc-4b0e-90d8-12d801049b10')\"\n",
              "              title=\"Convert this dataframe to an interactive table.\"\n",
              "              style=\"display:none;\">\n",
              "        \n",
              "  <svg xmlns=\"http://www.w3.org/2000/svg\" height=\"24px\"viewBox=\"0 0 24 24\"\n",
              "       width=\"24px\">\n",
              "    <path d=\"M0 0h24v24H0V0z\" fill=\"none\"/>\n",
              "    <path d=\"M18.56 5.44l.94 2.06.94-2.06 2.06-.94-2.06-.94-.94-2.06-.94 2.06-2.06.94zm-11 1L8.5 8.5l.94-2.06 2.06-.94-2.06-.94L8.5 2.5l-.94 2.06-2.06.94zm10 10l.94 2.06.94-2.06 2.06-.94-2.06-.94-.94-2.06-.94 2.06-2.06.94z\"/><path d=\"M17.41 7.96l-1.37-1.37c-.4-.4-.92-.59-1.43-.59-.52 0-1.04.2-1.43.59L10.3 9.45l-7.72 7.72c-.78.78-.78 2.05 0 2.83L4 21.41c.39.39.9.59 1.41.59.51 0 1.02-.2 1.41-.59l7.78-7.78 2.81-2.81c.8-.78.8-2.07 0-2.86zM5.41 20L4 18.59l7.72-7.72 1.47 1.35L5.41 20z\"/>\n",
              "  </svg>\n",
              "      </button>\n",
              "      \n",
              "  <style>\n",
              "    .colab-df-container {\n",
              "      display:flex;\n",
              "      flex-wrap:wrap;\n",
              "      gap: 12px;\n",
              "    }\n",
              "\n",
              "    .colab-df-convert {\n",
              "      background-color: #E8F0FE;\n",
              "      border: none;\n",
              "      border-radius: 50%;\n",
              "      cursor: pointer;\n",
              "      display: none;\n",
              "      fill: #1967D2;\n",
              "      height: 32px;\n",
              "      padding: 0 0 0 0;\n",
              "      width: 32px;\n",
              "    }\n",
              "\n",
              "    .colab-df-convert:hover {\n",
              "      background-color: #E2EBFA;\n",
              "      box-shadow: 0px 1px 2px rgba(60, 64, 67, 0.3), 0px 1px 3px 1px rgba(60, 64, 67, 0.15);\n",
              "      fill: #174EA6;\n",
              "    }\n",
              "\n",
              "    [theme=dark] .colab-df-convert {\n",
              "      background-color: #3B4455;\n",
              "      fill: #D2E3FC;\n",
              "    }\n",
              "\n",
              "    [theme=dark] .colab-df-convert:hover {\n",
              "      background-color: #434B5C;\n",
              "      box-shadow: 0px 1px 3px 1px rgba(0, 0, 0, 0.15);\n",
              "      filter: drop-shadow(0px 1px 2px rgba(0, 0, 0, 0.3));\n",
              "      fill: #FFFFFF;\n",
              "    }\n",
              "  </style>\n",
              "\n",
              "      <script>\n",
              "        const buttonEl =\n",
              "          document.querySelector('#df-8377e2b2-98cc-4b0e-90d8-12d801049b10 button.colab-df-convert');\n",
              "        buttonEl.style.display =\n",
              "          google.colab.kernel.accessAllowed ? 'block' : 'none';\n",
              "\n",
              "        async function convertToInteractive(key) {\n",
              "          const element = document.querySelector('#df-8377e2b2-98cc-4b0e-90d8-12d801049b10');\n",
              "          const dataTable =\n",
              "            await google.colab.kernel.invokeFunction('convertToInteractive',\n",
              "                                                     [key], {});\n",
              "          if (!dataTable) return;\n",
              "\n",
              "          const docLinkHtml = 'Like what you see? Visit the ' +\n",
              "            '<a target=\"_blank\" href=https://colab.research.google.com/notebooks/data_table.ipynb>data table notebook</a>'\n",
              "            + ' to learn more about interactive tables.';\n",
              "          element.innerHTML = '';\n",
              "          dataTable['output_type'] = 'display_data';\n",
              "          await google.colab.output.renderOutput(dataTable, element);\n",
              "          const docLink = document.createElement('div');\n",
              "          docLink.innerHTML = docLinkHtml;\n",
              "          element.appendChild(docLink);\n",
              "        }\n",
              "      </script>\n",
              "    </div>\n",
              "  </div>\n",
              "  "
            ],
            "text/plain": [
              "   ARREST_KEY  ...                      New Georeferenced Column\n",
              "0   234233843  ...  POINT (-73.90973778899996 40.82618898100003)\n",
              "1   234129823  ...  POINT (-73.93022154099998 40.67458330800008)\n",
              "2   234040747  ...  POINT (-73.76598558899997 40.60344094100003)\n",
              "3   234047720  ...  POINT (-73.91945797099999 40.83778161800007)\n",
              "4   234042526  ...  POINT (-73.91627635999998 40.83598980000005)\n",
              "\n",
              "[5 rows x 19 columns]"
            ]
          },
          "metadata": {},
          "execution_count": 3
        }
      ]
    },
    {
      "cell_type": "code",
      "source": [
        "df.columns"
      ],
      "metadata": {
        "colab": {
          "base_uri": "https://localhost:8080/"
        },
        "id": "wkIRukUQteEN",
        "outputId": "52c299eb-e985-4fb9-dca7-b670823b3b59"
      },
      "execution_count": 4,
      "outputs": [
        {
          "output_type": "execute_result",
          "data": {
            "text/plain": [
              "Index(['ARREST_KEY', 'ARREST_DATE', 'PD_CD', 'PD_DESC', 'KY_CD', 'OFNS_DESC',\n",
              "       'LAW_CODE', 'LAW_CAT_CD', 'ARREST_BORO', 'ARREST_PRECINCT',\n",
              "       'JURISDICTION_CODE', 'AGE_GROUP', 'PERP_SEX', 'PERP_RACE', 'X_COORD_CD',\n",
              "       'Y_COORD_CD', 'Latitude', 'Longitude', 'New Georeferenced Column'],\n",
              "      dtype='object')"
            ]
          },
          "metadata": {},
          "execution_count": 4
        }
      ]
    },
    {
      "cell_type": "code",
      "source": [
        "#Checking to see which columns have missing values and how many to determine which columns will be easier to work with\n",
        "df.isna().sum()"
      ],
      "metadata": {
        "colab": {
          "base_uri": "https://localhost:8080/"
        },
        "id": "ttxNC53utxHi",
        "outputId": "e873e9d5-b2a3-4c77-862d-c5dd9fc366d4"
      },
      "execution_count": 5,
      "outputs": [
        {
          "output_type": "execute_result",
          "data": {
            "text/plain": [
              "ARREST_KEY                     0\n",
              "ARREST_DATE                    0\n",
              "PD_CD                         21\n",
              "PD_DESC                       61\n",
              "KY_CD                         61\n",
              "OFNS_DESC                     61\n",
              "LAW_CODE                       0\n",
              "LAW_CAT_CD                  1078\n",
              "ARREST_BORO                    0\n",
              "ARREST_PRECINCT                0\n",
              "JURISDICTION_CODE              0\n",
              "AGE_GROUP                      0\n",
              "PERP_SEX                       0\n",
              "PERP_RACE                      0\n",
              "X_COORD_CD                     0\n",
              "Y_COORD_CD                     0\n",
              "Latitude                       0\n",
              "Longitude                      0\n",
              "New Georeferenced Column       0\n",
              "dtype: int64"
            ]
          },
          "metadata": {},
          "execution_count": 5
        }
      ]
    },
    {
      "cell_type": "code",
      "source": [
        "#Finding the start and end date of the data that was input into this dataset\n",
        "df[\"ARREST_DATE\"].min()"
      ],
      "metadata": {
        "colab": {
          "base_uri": "https://localhost:8080/",
          "height": 35
        },
        "id": "wSDbCRXussUC",
        "outputId": "8a5ade45-6fe9-4293-b3f0-81a792f6b9b3"
      },
      "execution_count": 6,
      "outputs": [
        {
          "output_type": "execute_result",
          "data": {
            "application/vnd.google.colaboratory.intrinsic+json": {
              "type": "string"
            },
            "text/plain": [
              "'01/01/2021'"
            ]
          },
          "metadata": {},
          "execution_count": 6
        }
      ]
    },
    {
      "cell_type": "code",
      "source": [
        "df[\"ARREST_DATE\"].max()"
      ],
      "metadata": {
        "colab": {
          "base_uri": "https://localhost:8080/",
          "height": 35
        },
        "id": "1yOrHCrKseY2",
        "outputId": "b28ac473-c311-4fad-8da2-096b8dc38fd1"
      },
      "execution_count": 7,
      "outputs": [
        {
          "output_type": "execute_result",
          "data": {
            "application/vnd.google.colaboratory.intrinsic+json": {
              "type": "string"
            },
            "text/plain": [
              "'09/30/2021'"
            ]
          },
          "metadata": {},
          "execution_count": 7
        }
      ]
    },
    {
      "cell_type": "code",
      "source": [
        "#Getting the unique breakout of the age groups\n",
        "df[\"AGE_GROUP\"].unique()"
      ],
      "metadata": {
        "colab": {
          "base_uri": "https://localhost:8080/"
        },
        "id": "H39szuDFtquu",
        "outputId": "49c11a0b-197e-428b-e908-c4d89c9f3b9b"
      },
      "execution_count": 8,
      "outputs": [
        {
          "output_type": "execute_result",
          "data": {
            "text/plain": [
              "array(['25-44', '18-24', '45-64', '<18', '65+'], dtype=object)"
            ]
          },
          "metadata": {},
          "execution_count": 8
        }
      ]
    },
    {
      "cell_type": "markdown",
      "source": [
        "**I will be taking a closer look at data within this dataset specific to juveniles, or individuals categorized as 'under the age of 18.' My goal is to better understand the severity of crimes that these individuals are being arrested for, to determine what resources and services the city needs to invest in more of in order to better support the communities most in need of assistance.**"
      ],
      "metadata": {
        "id": "9IMs8D2711z6"
      }
    },
    {
      "cell_type": "markdown",
      "source": [
        "**Question 1: How many individuals under the age of 18 were arrested during this time period?**"
      ],
      "metadata": {
        "id": "GvuCkQt6l3b4"
      }
    },
    {
      "cell_type": "code",
      "source": [
        "#Setting Index as AGE_GROUP so I can subset this data easier\n",
        "df_age_index = df.set_index(\"AGE_GROUP\")\n"
      ],
      "metadata": {
        "id": "hs7WTGjDkGCV"
      },
      "execution_count": 9,
      "outputs": []
    },
    {
      "cell_type": "code",
      "source": [
        "#Creating a subset of the data of just those arrests of individuals under the age of 18\n",
        "df_under_18 = df_age_index.loc[\"<18\"]"
      ],
      "metadata": {
        "id": "YFF0PWeFlXV9"
      },
      "execution_count": 10,
      "outputs": []
    },
    {
      "cell_type": "code",
      "source": [
        "df_under_18.head()"
      ],
      "metadata": {
        "colab": {
          "base_uri": "https://localhost:8080/",
          "height": 510
        },
        "id": "s_IpziSdmyYs",
        "outputId": "89fc4abf-b5fb-42d2-94a6-34ba5af74710"
      },
      "execution_count": 11,
      "outputs": [
        {
          "output_type": "execute_result",
          "data": {
            "text/html": [
              "\n",
              "  <div id=\"df-96ebb31f-6648-474d-98e7-a279749487cf\">\n",
              "    <div class=\"colab-df-container\">\n",
              "      <div>\n",
              "<style scoped>\n",
              "    .dataframe tbody tr th:only-of-type {\n",
              "        vertical-align: middle;\n",
              "    }\n",
              "\n",
              "    .dataframe tbody tr th {\n",
              "        vertical-align: top;\n",
              "    }\n",
              "\n",
              "    .dataframe thead th {\n",
              "        text-align: right;\n",
              "    }\n",
              "</style>\n",
              "<table border=\"1\" class=\"dataframe\">\n",
              "  <thead>\n",
              "    <tr style=\"text-align: right;\">\n",
              "      <th></th>\n",
              "      <th>ARREST_KEY</th>\n",
              "      <th>ARREST_DATE</th>\n",
              "      <th>PD_CD</th>\n",
              "      <th>PD_DESC</th>\n",
              "      <th>KY_CD</th>\n",
              "      <th>OFNS_DESC</th>\n",
              "      <th>LAW_CODE</th>\n",
              "      <th>LAW_CAT_CD</th>\n",
              "      <th>ARREST_BORO</th>\n",
              "      <th>ARREST_PRECINCT</th>\n",
              "      <th>JURISDICTION_CODE</th>\n",
              "      <th>PERP_SEX</th>\n",
              "      <th>PERP_RACE</th>\n",
              "      <th>X_COORD_CD</th>\n",
              "      <th>Y_COORD_CD</th>\n",
              "      <th>Latitude</th>\n",
              "      <th>Longitude</th>\n",
              "      <th>New Georeferenced Column</th>\n",
              "    </tr>\n",
              "    <tr>\n",
              "      <th>AGE_GROUP</th>\n",
              "      <th></th>\n",
              "      <th></th>\n",
              "      <th></th>\n",
              "      <th></th>\n",
              "      <th></th>\n",
              "      <th></th>\n",
              "      <th></th>\n",
              "      <th></th>\n",
              "      <th></th>\n",
              "      <th></th>\n",
              "      <th></th>\n",
              "      <th></th>\n",
              "      <th></th>\n",
              "      <th></th>\n",
              "      <th></th>\n",
              "      <th></th>\n",
              "      <th></th>\n",
              "      <th></th>\n",
              "    </tr>\n",
              "  </thead>\n",
              "  <tbody>\n",
              "    <tr>\n",
              "      <th>&lt;18</th>\n",
              "      <td>234093160</td>\n",
              "      <td>09/26/2021</td>\n",
              "      <td>490.0</td>\n",
              "      <td>STOLEN PROPERTY 3,POSSESSION</td>\n",
              "      <td>232.0</td>\n",
              "      <td>POSSESSION OF STOLEN PROPERTY</td>\n",
              "      <td>PL 1654000</td>\n",
              "      <td>M</td>\n",
              "      <td>K</td>\n",
              "      <td>75</td>\n",
              "      <td>0</td>\n",
              "      <td>M</td>\n",
              "      <td>WHITE HISPANIC</td>\n",
              "      <td>1018476</td>\n",
              "      <td>187132</td>\n",
              "      <td>40.680253</td>\n",
              "      <td>-73.876604</td>\n",
              "      <td>POINT (-73.87660350299996 40.68025292300007)</td>\n",
              "    </tr>\n",
              "    <tr>\n",
              "      <th>&lt;18</th>\n",
              "      <td>232565683</td>\n",
              "      <td>08/22/2021</td>\n",
              "      <td>792.0</td>\n",
              "      <td>WEAPONS POSSESSION 1 &amp; 2</td>\n",
              "      <td>118.0</td>\n",
              "      <td>DANGEROUS WEAPONS</td>\n",
              "      <td>PL 265031B</td>\n",
              "      <td>F</td>\n",
              "      <td>B</td>\n",
              "      <td>52</td>\n",
              "      <td>0</td>\n",
              "      <td>M</td>\n",
              "      <td>BLACK</td>\n",
              "      <td>1013694</td>\n",
              "      <td>253644</td>\n",
              "      <td>40.862828</td>\n",
              "      <td>-73.893553</td>\n",
              "      <td>POINT (-73.89355304399999 40.862828025000056)</td>\n",
              "    </tr>\n",
              "    <tr>\n",
              "      <th>&lt;18</th>\n",
              "      <td>232697406</td>\n",
              "      <td>08/25/2021</td>\n",
              "      <td>792.0</td>\n",
              "      <td>WEAPONS POSSESSION 1 &amp; 2</td>\n",
              "      <td>118.0</td>\n",
              "      <td>DANGEROUS WEAPONS</td>\n",
              "      <td>PL 265031B</td>\n",
              "      <td>F</td>\n",
              "      <td>K</td>\n",
              "      <td>88</td>\n",
              "      <td>0</td>\n",
              "      <td>M</td>\n",
              "      <td>BLACK</td>\n",
              "      <td>990281</td>\n",
              "      <td>192762</td>\n",
              "      <td>40.695770</td>\n",
              "      <td>-73.978252</td>\n",
              "      <td>POINT (-73.97825230899997 40.69577009300008)</td>\n",
              "    </tr>\n",
              "    <tr>\n",
              "      <th>&lt;18</th>\n",
              "      <td>233113947</td>\n",
              "      <td>09/03/2021</td>\n",
              "      <td>792.0</td>\n",
              "      <td>WEAPONS POSSESSION 1 &amp; 2</td>\n",
              "      <td>118.0</td>\n",
              "      <td>DANGEROUS WEAPONS</td>\n",
              "      <td>PL 265031B</td>\n",
              "      <td>F</td>\n",
              "      <td>K</td>\n",
              "      <td>77</td>\n",
              "      <td>0</td>\n",
              "      <td>F</td>\n",
              "      <td>BLACK</td>\n",
              "      <td>994894</td>\n",
              "      <td>185274</td>\n",
              "      <td>40.675213</td>\n",
              "      <td>-73.961629</td>\n",
              "      <td>POINT (-73.96162862699998 40.67521289800004)</td>\n",
              "    </tr>\n",
              "    <tr>\n",
              "      <th>&lt;18</th>\n",
              "      <td>234076781</td>\n",
              "      <td>09/26/2021</td>\n",
              "      <td>441.0</td>\n",
              "      <td>LARCENY,GRAND OF AUTO</td>\n",
              "      <td>110.0</td>\n",
              "      <td>GRAND LARCENY OF MOTOR VEHICLE</td>\n",
              "      <td>PL 1553008</td>\n",
              "      <td>F</td>\n",
              "      <td>Q</td>\n",
              "      <td>105</td>\n",
              "      <td>0</td>\n",
              "      <td>M</td>\n",
              "      <td>BLACK</td>\n",
              "      <td>1046681</td>\n",
              "      <td>181205</td>\n",
              "      <td>40.663831</td>\n",
              "      <td>-73.774969</td>\n",
              "      <td>POINT (-73.77496883299993 40.66383069800003)</td>\n",
              "    </tr>\n",
              "  </tbody>\n",
              "</table>\n",
              "</div>\n",
              "      <button class=\"colab-df-convert\" onclick=\"convertToInteractive('df-96ebb31f-6648-474d-98e7-a279749487cf')\"\n",
              "              title=\"Convert this dataframe to an interactive table.\"\n",
              "              style=\"display:none;\">\n",
              "        \n",
              "  <svg xmlns=\"http://www.w3.org/2000/svg\" height=\"24px\"viewBox=\"0 0 24 24\"\n",
              "       width=\"24px\">\n",
              "    <path d=\"M0 0h24v24H0V0z\" fill=\"none\"/>\n",
              "    <path d=\"M18.56 5.44l.94 2.06.94-2.06 2.06-.94-2.06-.94-.94-2.06-.94 2.06-2.06.94zm-11 1L8.5 8.5l.94-2.06 2.06-.94-2.06-.94L8.5 2.5l-.94 2.06-2.06.94zm10 10l.94 2.06.94-2.06 2.06-.94-2.06-.94-.94-2.06-.94 2.06-2.06.94z\"/><path d=\"M17.41 7.96l-1.37-1.37c-.4-.4-.92-.59-1.43-.59-.52 0-1.04.2-1.43.59L10.3 9.45l-7.72 7.72c-.78.78-.78 2.05 0 2.83L4 21.41c.39.39.9.59 1.41.59.51 0 1.02-.2 1.41-.59l7.78-7.78 2.81-2.81c.8-.78.8-2.07 0-2.86zM5.41 20L4 18.59l7.72-7.72 1.47 1.35L5.41 20z\"/>\n",
              "  </svg>\n",
              "      </button>\n",
              "      \n",
              "  <style>\n",
              "    .colab-df-container {\n",
              "      display:flex;\n",
              "      flex-wrap:wrap;\n",
              "      gap: 12px;\n",
              "    }\n",
              "\n",
              "    .colab-df-convert {\n",
              "      background-color: #E8F0FE;\n",
              "      border: none;\n",
              "      border-radius: 50%;\n",
              "      cursor: pointer;\n",
              "      display: none;\n",
              "      fill: #1967D2;\n",
              "      height: 32px;\n",
              "      padding: 0 0 0 0;\n",
              "      width: 32px;\n",
              "    }\n",
              "\n",
              "    .colab-df-convert:hover {\n",
              "      background-color: #E2EBFA;\n",
              "      box-shadow: 0px 1px 2px rgba(60, 64, 67, 0.3), 0px 1px 3px 1px rgba(60, 64, 67, 0.15);\n",
              "      fill: #174EA6;\n",
              "    }\n",
              "\n",
              "    [theme=dark] .colab-df-convert {\n",
              "      background-color: #3B4455;\n",
              "      fill: #D2E3FC;\n",
              "    }\n",
              "\n",
              "    [theme=dark] .colab-df-convert:hover {\n",
              "      background-color: #434B5C;\n",
              "      box-shadow: 0px 1px 3px 1px rgba(0, 0, 0, 0.15);\n",
              "      filter: drop-shadow(0px 1px 2px rgba(0, 0, 0, 0.3));\n",
              "      fill: #FFFFFF;\n",
              "    }\n",
              "  </style>\n",
              "\n",
              "      <script>\n",
              "        const buttonEl =\n",
              "          document.querySelector('#df-96ebb31f-6648-474d-98e7-a279749487cf button.colab-df-convert');\n",
              "        buttonEl.style.display =\n",
              "          google.colab.kernel.accessAllowed ? 'block' : 'none';\n",
              "\n",
              "        async function convertToInteractive(key) {\n",
              "          const element = document.querySelector('#df-96ebb31f-6648-474d-98e7-a279749487cf');\n",
              "          const dataTable =\n",
              "            await google.colab.kernel.invokeFunction('convertToInteractive',\n",
              "                                                     [key], {});\n",
              "          if (!dataTable) return;\n",
              "\n",
              "          const docLinkHtml = 'Like what you see? Visit the ' +\n",
              "            '<a target=\"_blank\" href=https://colab.research.google.com/notebooks/data_table.ipynb>data table notebook</a>'\n",
              "            + ' to learn more about interactive tables.';\n",
              "          element.innerHTML = '';\n",
              "          dataTable['output_type'] = 'display_data';\n",
              "          await google.colab.output.renderOutput(dataTable, element);\n",
              "          const docLink = document.createElement('div');\n",
              "          docLink.innerHTML = docLinkHtml;\n",
              "          element.appendChild(docLink);\n",
              "        }\n",
              "      </script>\n",
              "    </div>\n",
              "  </div>\n",
              "  "
            ],
            "text/plain": [
              "           ARREST_KEY  ...                       New Georeferenced Column\n",
              "AGE_GROUP              ...                                               \n",
              "<18         234093160  ...   POINT (-73.87660350299996 40.68025292300007)\n",
              "<18         232565683  ...  POINT (-73.89355304399999 40.862828025000056)\n",
              "<18         232697406  ...   POINT (-73.97825230899997 40.69577009300008)\n",
              "<18         233113947  ...   POINT (-73.96162862699998 40.67521289800004)\n",
              "<18         234076781  ...   POINT (-73.77496883299993 40.66383069800003)\n",
              "\n",
              "[5 rows x 18 columns]"
            ]
          },
          "metadata": {},
          "execution_count": 11
        }
      ]
    },
    {
      "cell_type": "code",
      "source": [
        "df_under_18.count()"
      ],
      "metadata": {
        "colab": {
          "base_uri": "https://localhost:8080/"
        },
        "id": "Q1C8zD_JlXfD",
        "outputId": "198c667d-5fab-401b-fb41-6d202b1c08a7"
      },
      "execution_count": 12,
      "outputs": [
        {
          "output_type": "execute_result",
          "data": {
            "text/plain": [
              "ARREST_KEY                  3408\n",
              "ARREST_DATE                 3408\n",
              "PD_CD                       3408\n",
              "PD_DESC                     3408\n",
              "KY_CD                       3408\n",
              "OFNS_DESC                   3408\n",
              "LAW_CODE                    3408\n",
              "LAW_CAT_CD                  3408\n",
              "ARREST_BORO                 3408\n",
              "ARREST_PRECINCT             3408\n",
              "JURISDICTION_CODE           3408\n",
              "PERP_SEX                    3408\n",
              "PERP_RACE                   3408\n",
              "X_COORD_CD                  3408\n",
              "Y_COORD_CD                  3408\n",
              "Latitude                    3408\n",
              "Longitude                   3408\n",
              "New Georeferenced Column    3408\n",
              "dtype: int64"
            ]
          },
          "metadata": {},
          "execution_count": 12
        }
      ]
    },
    {
      "cell_type": "markdown",
      "source": [
        "**There were 3,408 unique arrests for individuals under the age of 18 during this time period**"
      ],
      "metadata": {
        "id": "GWfaim8GmDS6"
      }
    },
    {
      "cell_type": "markdown",
      "source": [
        "**Question 2: Of these arrests, what is the breakout between classification of arrest type: Felony (F) vs Misdemeanor (M) vs Violation (I)?**"
      ],
      "metadata": {
        "id": "DC2R62ERvTNV"
      }
    },
    {
      "cell_type": "code",
      "source": [
        "df_under_18_arrest_type = df_under_18[\"LAW_CAT_CD\"].value_counts(normalize=True)"
      ],
      "metadata": {
        "id": "8PQGKGB-tmgc"
      },
      "execution_count": 13,
      "outputs": []
    },
    {
      "cell_type": "code",
      "source": [
        "print(df_under_18_arrest_type)"
      ],
      "metadata": {
        "colab": {
          "base_uri": "https://localhost:8080/"
        },
        "id": "kRDqYNvWu_0f",
        "outputId": "3449cef9-68c1-4eac-9a24-3f3b3e423526"
      },
      "execution_count": 14,
      "outputs": [
        {
          "output_type": "stream",
          "name": "stdout",
          "text": [
            "F    0.666373\n",
            "M    0.333040\n",
            "I    0.000587\n",
            "Name: LAW_CAT_CD, dtype: float64\n"
          ]
        }
      ]
    },
    {
      "cell_type": "code",
      "source": [
        "df_under_18[\"LAW_CAT_CD\"].value_counts(sort=True)"
      ],
      "metadata": {
        "colab": {
          "base_uri": "https://localhost:8080/"
        },
        "id": "J_ZzzOn-zN3p",
        "outputId": "58feebdc-2ec1-43cb-9568-f0bbff171743"
      },
      "execution_count": 15,
      "outputs": [
        {
          "output_type": "execute_result",
          "data": {
            "text/plain": [
              "F    2271\n",
              "M    1135\n",
              "I       2\n",
              "Name: LAW_CAT_CD, dtype: int64"
            ]
          },
          "metadata": {},
          "execution_count": 15
        }
      ]
    },
    {
      "cell_type": "markdown",
      "source": [
        "**Of the crimes documented in this data set that were commited by individuals under the age of 18,** \n",
        "\n",
        "*   **66% (2,271) were classified as felonies**\n",
        "*   **33% (1,135) were classified as misdemeanors**\n",
        "*   **Less than 1% (2) were classified as a violation**"
      ],
      "metadata": {
        "id": "VSdKxN-0vlom"
      }
    },
    {
      "cell_type": "code",
      "source": [
        "df_under_18[\"LAW_CAT_CD\"].value_counts(sort=True).plot.bar()"
      ],
      "metadata": {
        "colab": {
          "base_uri": "https://localhost:8080/",
          "height": 282
        },
        "id": "xzf0Mkezz6v6",
        "outputId": "9565cabf-300f-4894-dd77-a94b4e568806"
      },
      "execution_count": 16,
      "outputs": [
        {
          "output_type": "execute_result",
          "data": {
            "text/plain": [
              "<matplotlib.axes._subplots.AxesSubplot at 0x7f8fdd5a2fd0>"
            ]
          },
          "metadata": {},
          "execution_count": 16
        },
        {
          "output_type": "display_data",
          "data": {
            "image/png": "[encoded data removed]",
            "text/plain": [
              "<Figure size 432x288 with 1 Axes>"
            ]
          },
          "metadata": {
            "needs_background": "light"
          }
        }
      ]
    },
    {
      "cell_type": "markdown",
      "source": [
        "**Question 3: Where did the majority of these arrests take place?**"
      ],
      "metadata": {
        "id": "mMMUDF7W1OCC"
      }
    },
    {
      "cell_type": "code",
      "source": [
        "df_under_18[\"ARREST_BORO\"].value_counts()"
      ],
      "metadata": {
        "colab": {
          "base_uri": "https://localhost:8080/"
        },
        "id": "LOuK24AJk6ot",
        "outputId": "0a8ec97a-cd7c-486e-85da-e5e775969924"
      },
      "execution_count": 21,
      "outputs": [
        {
          "output_type": "execute_result",
          "data": {
            "text/plain": [
              "K    1070\n",
              "B     931\n",
              "M     681\n",
              "Q     586\n",
              "S     140\n",
              "Name: ARREST_BORO, dtype: int64"
            ]
          },
          "metadata": {},
          "execution_count": 21
        }
      ]
    },
    {
      "cell_type": "code",
      "source": [
        "#Replacing the codes with the full borough names\n",
        "df_under_18_boro = df_under_18[\"ARREST_BORO\"].replace(['K', 'B', 'M', 'Q', 'S'], ['Brooklyn', 'Bronx', 'Manhattan', 'Queens', 'Staten Island' ])"
      ],
      "metadata": {
        "id": "XWeyz5VKlFcg"
      },
      "execution_count": 25,
      "outputs": []
    },
    {
      "cell_type": "code",
      "source": [
        "df_under_18_boro.value_counts().plot.bar()"
      ],
      "metadata": {
        "colab": {
          "base_uri": "https://localhost:8080/",
          "height": 338
        },
        "id": "tdHTAISKl6pS",
        "outputId": "aa728df2-f7b5-4171-ddb6-dc3defc4b3d2"
      },
      "execution_count": 29,
      "outputs": [
        {
          "output_type": "execute_result",
          "data": {
            "text/plain": [
              "<matplotlib.axes._subplots.AxesSubplot at 0x7f8fd81fa650>"
            ]
          },
          "metadata": {},
          "execution_count": 29
        },
        {
          "output_type": "display_data",
          "data": {
            "image/png": "[encoded data removed]",
            "text/plain": [
              "<Figure size 432x288 with 1 Axes>"
            ]
          },
          "metadata": {
            "needs_background": "light"
          }
        }
      ]
    },
    {
      "cell_type": "markdown",
      "source": [
        "**The majority of arrests made of individuals under the age of 18 occured in Brooklyn**"
      ],
      "metadata": {
        "id": "JMKeMxKpndYY"
      }
    },
    {
      "cell_type": "markdown",
      "source": [
        "**In conclusion, we recommend adding additional support resources targeting individuals under 18, specifically in Brooklyn and the Bronx, with the goal of getting kids off the street and out of trouble thereby hopefully reducing the number of arrests within this age group, in these boroughs.**"
      ],
      "metadata": {
        "id": "7FCl1j0_rP3C"
      }
    }
  ]
}