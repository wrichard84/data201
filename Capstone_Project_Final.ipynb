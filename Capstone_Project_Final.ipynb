{
  "nbformat": 4,
  "nbformat_minor": 0,
  "metadata": {
    "colab": {
      "name": "Capstone_Project_Final.ipynb",
      "provenance": [],
      "authorship_tag": "ABX9TyPYYIOmur+ZprL4BIzBLsZQ",
      "include_colab_link": true
    },
    "kernelspec": {
      "name": "python3",
      "display_name": "Python 3"
    },
    "language_info": {
      "name": "python"
    }
  },
  "cells": [
    {
      "cell_type": "markdown",
      "metadata": {
        "id": "view-in-github",
        "colab_type": "text"
      },
      "source": [
        "<a href=\"https://colab.research.google.com/github/wrichard84/data201/blob/main/Capstone_Project_Final.ipynb\" target=\"_parent\"><img src=\"https://colab.research.google.com/assets/colab-badge.svg\" alt=\"Open In Colab\"/></a>"
      ]
    },
    {
      "cell_type": "markdown",
      "source": [
        "**IMPORTING THE DATA**"
      ],
      "metadata": {
        "id": "bOywFPZFJFPm"
      }
    },
    {
      "cell_type": "code",
      "execution_count": 78,
      "metadata": {
        "colab": {
          "resources": {
            "http://localhost:8080/nbextensions/google.colab/files.js": {
              "data": "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",
              "ok": true,
              "headers": [
                [
                  "content-type",
                  "application/javascript"
                ]
              ],
              "status": 200,
              "status_text": ""
            }
          },
          "base_uri": "https://localhost:8080/",
          "height": 73
        },
        "id": "Uc1O9SjBsLrI",
        "outputId": "4f2394b9-7980-4147-824e-ee9b1a18f40b"
      },
      "outputs": [
        {
          "output_type": "display_data",
          "data": {
            "text/html": [
              "\n",
              "     <input type=\"file\" id=\"files-eb6c9f1d-233a-462a-a85a-c374ee3855c0\" name=\"files[]\" multiple disabled\n",
              "        style=\"border:none\" />\n",
              "     <output id=\"result-eb6c9f1d-233a-462a-a85a-c374ee3855c0\">\n",
              "      Upload widget is only available when the cell has been executed in the\n",
              "      current browser session. Please rerun this cell to enable.\n",
              "      </output>\n",
              "      <script src=\"/nbextensions/google.colab/files.js\"></script> "
            ],
            "text/plain": [
              "<IPython.core.display.HTML object>"
            ]
          },
          "metadata": {}
        },
        {
          "output_type": "stream",
          "name": "stdout",
          "text": [
            "Saving Citi_Bike_Summer_2021.csv to Citi_Bike_Summer_2021 (1).csv\n"
          ]
        }
      ],
      "source": [
        "from google.colab import files\n",
        "uploaded = files.upload()"
      ]
    },
    {
      "cell_type": "code",
      "source": [
        "import pandas as pd\n",
        "import io\n",
        "df = pd.read_csv(io.BytesIO(uploaded['Citi_Bike_Summer_2021.csv']))"
      ],
      "metadata": {
        "id": "w7eK8V9YE0GY"
      },
      "execution_count": 79,
      "outputs": []
    },
    {
      "cell_type": "code",
      "source": [
        "import matplotlib.pyplot as plot\n",
        "import numpy as np\n",
        "import seaborn as sns\n",
        "%matplotlib inline"
      ],
      "metadata": {
        "id": "WkSTaMDHJBeX"
      },
      "execution_count": 80,
      "outputs": []
    },
    {
      "cell_type": "markdown",
      "source": [
        "**EXPLORING THE DATA**"
      ],
      "metadata": {
        "id": "dKpzTNQMFGx8"
      }
    },
    {
      "cell_type": "code",
      "source": [
        "df.head()"
      ],
      "metadata": {
        "colab": {
          "base_uri": "https://localhost:8080/",
          "height": 371
        },
        "id": "6TX_bZxWFAZ5",
        "outputId": "53a02af7-eb71-4f02-e396-01d88233f36f"
      },
      "execution_count": 81,
      "outputs": [
        {
          "output_type": "execute_result",
          "data": {
            "text/html": [
              "\n",
              "  <div id=\"df-3953579d-d081-4f42-b9d3-8535a6191126\">\n",
              "    <div class=\"colab-df-container\">\n",
              "      <div>\n",
              "<style scoped>\n",
              "    .dataframe tbody tr th:only-of-type {\n",
              "        vertical-align: middle;\n",
              "    }\n",
              "\n",
              "    .dataframe tbody tr th {\n",
              "        vertical-align: top;\n",
              "    }\n",
              "\n",
              "    .dataframe thead th {\n",
              "        text-align: right;\n",
              "    }\n",
              "</style>\n",
              "<table border=\"1\" class=\"dataframe\">\n",
              "  <thead>\n",
              "    <tr style=\"text-align: right;\">\n",
              "      <th></th>\n",
              "      <th>Month</th>\n",
              "      <th>Year</th>\n",
              "      <th>ride_id</th>\n",
              "      <th>Bike Type</th>\n",
              "      <th>Date_Started</th>\n",
              "      <th>Date_Ended</th>\n",
              "      <th>Time_Started</th>\n",
              "      <th>Time_Ended</th>\n",
              "      <th>Trip Duration hh:mm</th>\n",
              "      <th>From_Station</th>\n",
              "      <th>To_Station</th>\n",
              "      <th>Member Type</th>\n",
              "    </tr>\n",
              "  </thead>\n",
              "  <tbody>\n",
              "    <tr>\n",
              "      <th>0</th>\n",
              "      <td>June</td>\n",
              "      <td>2021</td>\n",
              "      <td>6457BC38526A4187</td>\n",
              "      <td>Docked</td>\n",
              "      <td>21-Jun-21</td>\n",
              "      <td>21-Jun-21</td>\n",
              "      <td>10:19:04 AM</td>\n",
              "      <td>10:26:28 AM</td>\n",
              "      <td>0:07</td>\n",
              "      <td>Lafayette Park</td>\n",
              "      <td>City Hall</td>\n",
              "      <td>Member</td>\n",
              "    </tr>\n",
              "    <tr>\n",
              "      <th>1</th>\n",
              "      <td>June</td>\n",
              "      <td>2021</td>\n",
              "      <td>508AC0C37B2BE1A8</td>\n",
              "      <td>Docked</td>\n",
              "      <td>5-Jun-21</td>\n",
              "      <td>5-Jun-21</td>\n",
              "      <td>10:12:18 AM</td>\n",
              "      <td>10:27:10 AM</td>\n",
              "      <td>0:14</td>\n",
              "      <td>Mama Johnson Field - 4 St &amp; Jackson St</td>\n",
              "      <td>Bloomfield St &amp; 15 St</td>\n",
              "      <td>Member</td>\n",
              "    </tr>\n",
              "    <tr>\n",
              "      <th>2</th>\n",
              "      <td>June</td>\n",
              "      <td>2021</td>\n",
              "      <td>A1AD52779E13308C</td>\n",
              "      <td>Docked</td>\n",
              "      <td>4-Jun-21</td>\n",
              "      <td>4-Jun-21</td>\n",
              "      <td>3:42:35 AM</td>\n",
              "      <td>3:54:28 AM</td>\n",
              "      <td>0:11</td>\n",
              "      <td>Lincoln Park</td>\n",
              "      <td>Grand St</td>\n",
              "      <td>Member</td>\n",
              "    </tr>\n",
              "    <tr>\n",
              "      <th>3</th>\n",
              "      <td>June</td>\n",
              "      <td>2021</td>\n",
              "      <td>DA8AA7083ACCA940</td>\n",
              "      <td>Docked</td>\n",
              "      <td>3-Jun-21</td>\n",
              "      <td>3-Jun-21</td>\n",
              "      <td>6:07:42 AM</td>\n",
              "      <td>7:09:26 AM</td>\n",
              "      <td>1:01</td>\n",
              "      <td>Columbus Park - Clinton St &amp; 9 St</td>\n",
              "      <td>Columbus Park - Clinton St &amp; 9 St</td>\n",
              "      <td>Non-Member</td>\n",
              "    </tr>\n",
              "    <tr>\n",
              "      <th>4</th>\n",
              "      <td>June</td>\n",
              "      <td>2021</td>\n",
              "      <td>BF8DB08AEF78C8D1</td>\n",
              "      <td>Docked</td>\n",
              "      <td>5-Jun-21</td>\n",
              "      <td>5-Jun-21</td>\n",
              "      <td>3:39:56 AM</td>\n",
              "      <td>4:16:09 AM</td>\n",
              "      <td>0:36</td>\n",
              "      <td>Columbus Park - Clinton St &amp; 9 St</td>\n",
              "      <td>Columbus Park - Clinton St &amp; 9 St</td>\n",
              "      <td>Non-Member</td>\n",
              "    </tr>\n",
              "  </tbody>\n",
              "</table>\n",
              "</div>\n",
              "      <button class=\"colab-df-convert\" onclick=\"convertToInteractive('df-3953579d-d081-4f42-b9d3-8535a6191126')\"\n",
              "              title=\"Convert this dataframe to an interactive table.\"\n",
              "              style=\"display:none;\">\n",
              "        \n",
              "  <svg xmlns=\"http://www.w3.org/2000/svg\" height=\"24px\"viewBox=\"0 0 24 24\"\n",
              "       width=\"24px\">\n",
              "    <path d=\"M0 0h24v24H0V0z\" fill=\"none\"/>\n",
              "    <path d=\"M18.56 5.44l.94 2.06.94-2.06 2.06-.94-2.06-.94-.94-2.06-.94 2.06-2.06.94zm-11 1L8.5 8.5l.94-2.06 2.06-.94-2.06-.94L8.5 2.5l-.94 2.06-2.06.94zm10 10l.94 2.06.94-2.06 2.06-.94-2.06-.94-.94-2.06-.94 2.06-2.06.94z\"/><path d=\"M17.41 7.96l-1.37-1.37c-.4-.4-.92-.59-1.43-.59-.52 0-1.04.2-1.43.59L10.3 9.45l-7.72 7.72c-.78.78-.78 2.05 0 2.83L4 21.41c.39.39.9.59 1.41.59.51 0 1.02-.2 1.41-.59l7.78-7.78 2.81-2.81c.8-.78.8-2.07 0-2.86zM5.41 20L4 18.59l7.72-7.72 1.47 1.35L5.41 20z\"/>\n",
              "  </svg>\n",
              "      </button>\n",
              "      \n",
              "  <style>\n",
              "    .colab-df-container {\n",
              "      display:flex;\n",
              "      flex-wrap:wrap;\n",
              "      gap: 12px;\n",
              "    }\n",
              "\n",
              "    .colab-df-convert {\n",
              "      background-color: #E8F0FE;\n",
              "      border: none;\n",
              "      border-radius: 50%;\n",
              "      cursor: pointer;\n",
              "      display: none;\n",
              "      fill: #1967D2;\n",
              "      height: 32px;\n",
              "      padding: 0 0 0 0;\n",
              "      width: 32px;\n",
              "    }\n",
              "\n",
              "    .colab-df-convert:hover {\n",
              "      background-color: #E2EBFA;\n",
              "      box-shadow: 0px 1px 2px rgba(60, 64, 67, 0.3), 0px 1px 3px 1px rgba(60, 64, 67, 0.15);\n",
              "      fill: #174EA6;\n",
              "    }\n",
              "\n",
              "    [theme=dark] .colab-df-convert {\n",
              "      background-color: #3B4455;\n",
              "      fill: #D2E3FC;\n",
              "    }\n",
              "\n",
              "    [theme=dark] .colab-df-convert:hover {\n",
              "      background-color: #434B5C;\n",
              "      box-shadow: 0px 1px 3px 1px rgba(0, 0, 0, 0.15);\n",
              "      filter: drop-shadow(0px 1px 2px rgba(0, 0, 0, 0.3));\n",
              "      fill: #FFFFFF;\n",
              "    }\n",
              "  </style>\n",
              "\n",
              "      <script>\n",
              "        const buttonEl =\n",
              "          document.querySelector('#df-3953579d-d081-4f42-b9d3-8535a6191126 button.colab-df-convert');\n",
              "        buttonEl.style.display =\n",
              "          google.colab.kernel.accessAllowed ? 'block' : 'none';\n",
              "\n",
              "        async function convertToInteractive(key) {\n",
              "          const element = document.querySelector('#df-3953579d-d081-4f42-b9d3-8535a6191126');\n",
              "          const dataTable =\n",
              "            await google.colab.kernel.invokeFunction('convertToInteractive',\n",
              "                                                     [key], {});\n",
              "          if (!dataTable) return;\n",
              "\n",
              "          const docLinkHtml = 'Like what you see? Visit the ' +\n",
              "            '<a target=\"_blank\" href=https://colab.research.google.com/notebooks/data_table.ipynb>data table notebook</a>'\n",
              "            + ' to learn more about interactive tables.';\n",
              "          element.innerHTML = '';\n",
              "          dataTable['output_type'] = 'display_data';\n",
              "          await google.colab.output.renderOutput(dataTable, element);\n",
              "          const docLink = document.createElement('div');\n",
              "          docLink.innerHTML = docLinkHtml;\n",
              "          element.appendChild(docLink);\n",
              "        }\n",
              "      </script>\n",
              "    </div>\n",
              "  </div>\n",
              "  "
            ],
            "text/plain": [
              "  Month  Year  ...                         To_Station Member Type\n",
              "0  June  2021  ...                          City Hall      Member\n",
              "1  June  2021  ...              Bloomfield St & 15 St      Member\n",
              "2  June  2021  ...                           Grand St      Member\n",
              "3  June  2021  ...  Columbus Park - Clinton St & 9 St  Non-Member\n",
              "4  June  2021  ...  Columbus Park - Clinton St & 9 St  Non-Member\n",
              "\n",
              "[5 rows x 12 columns]"
            ]
          },
          "metadata": {},
          "execution_count": 81
        }
      ]
    },
    {
      "cell_type": "code",
      "source": [
        "df.columns"
      ],
      "metadata": {
        "colab": {
          "base_uri": "https://localhost:8080/"
        },
        "id": "aNW1TZ6oFmwU",
        "outputId": "62d56686-752e-4ccb-ffe4-c9428a38ab0d"
      },
      "execution_count": 82,
      "outputs": [
        {
          "output_type": "execute_result",
          "data": {
            "text/plain": [
              "Index(['Month', 'Year', 'ride_id', 'Bike Type', 'Date_Started', 'Date_Ended',\n",
              "       'Time_Started', 'Time_Ended', 'Trip Duration hh:mm', 'From_Station',\n",
              "       'To_Station', 'Member Type'],\n",
              "      dtype='object')"
            ]
          },
          "metadata": {},
          "execution_count": 82
        }
      ]
    },
    {
      "cell_type": "code",
      "source": [
        "df[\"Month\"].unique()"
      ],
      "metadata": {
        "colab": {
          "base_uri": "https://localhost:8080/"
        },
        "id": "BrTGHxSDFxIt",
        "outputId": "1bae5828-d753-4b7d-aae2-b81ec367a028"
      },
      "execution_count": 83,
      "outputs": [
        {
          "output_type": "execute_result",
          "data": {
            "text/plain": [
              "array(['June', 'July', 'August'], dtype=object)"
            ]
          },
          "metadata": {},
          "execution_count": 83
        }
      ]
    },
    {
      "cell_type": "code",
      "source": [
        "df.shape"
      ],
      "metadata": {
        "colab": {
          "base_uri": "https://localhost:8080/"
        },
        "id": "YHt6D_jj7vUG",
        "outputId": "99501a8c-0ca7-4904-a360-4eb1485147bf"
      },
      "execution_count": 84,
      "outputs": [
        {
          "output_type": "execute_result",
          "data": {
            "text/plain": [
              "(247777, 12)"
            ]
          },
          "metadata": {},
          "execution_count": 84
        }
      ]
    },
    {
      "cell_type": "markdown",
      "source": [
        "**Question 1: What did overall ridership look like over the Summer?**"
      ],
      "metadata": {
        "id": "Jp0o3jrMJOCN"
      }
    },
    {
      "cell_type": "code",
      "source": [
        "#Setting Index as Month so I can find details about each month\n",
        "df_month_index = df.set_index(\"Month\")"
      ],
      "metadata": {
        "id": "WD4fvyXgF3V5"
      },
      "execution_count": 85,
      "outputs": []
    },
    {
      "cell_type": "code",
      "source": [
        "df_june = df_month_index.loc[\"June\"]\n",
        "df_july = df_month_index.loc[\"July\"]\n",
        "df_august = df_month_index.loc[\"August\"]"
      ],
      "metadata": {
        "id": "qKL__E4SJhf-"
      },
      "execution_count": 86,
      "outputs": []
    },
    {
      "cell_type": "code",
      "source": [
        "#Finding count of rides in June, July & August\n",
        "df_june[\"ride_id\"].count()"
      ],
      "metadata": {
        "colab": {
          "base_uri": "https://localhost:8080/"
        },
        "id": "vZ7M12CPJ_SL",
        "outputId": "a0be5320-d5bd-4fb8-c85c-8893c3ba3c29"
      },
      "execution_count": 87,
      "outputs": [
        {
          "output_type": "execute_result",
          "data": {
            "text/plain": [
              "71428"
            ]
          },
          "metadata": {},
          "execution_count": 87
        }
      ]
    },
    {
      "cell_type": "code",
      "source": [
        "df_july[\"ride_id\"].count()"
      ],
      "metadata": {
        "colab": {
          "base_uri": "https://localhost:8080/"
        },
        "id": "7DZu_7t5KU6H",
        "outputId": "daee704b-7c4e-40ab-b679-a84226cba178"
      },
      "execution_count": 88,
      "outputs": [
        {
          "output_type": "execute_result",
          "data": {
            "text/plain": [
              "82549"
            ]
          },
          "metadata": {},
          "execution_count": 88
        }
      ]
    },
    {
      "cell_type": "code",
      "source": [
        "df_august[\"ride_id\"].count()"
      ],
      "metadata": {
        "colab": {
          "base_uri": "https://localhost:8080/"
        },
        "id": "uppL2PF9KXSD",
        "outputId": "9b8dbb3b-f4a7-4baa-af80-a7be2c56e78c"
      },
      "execution_count": 89,
      "outputs": [
        {
          "output_type": "execute_result",
          "data": {
            "text/plain": [
              "93800"
            ]
          },
          "metadata": {},
          "execution_count": 89
        }
      ]
    },
    {
      "cell_type": "code",
      "source": [
        "#Finding what the breakout percentage-wise of rides was for each month\n",
        "df_Month_Percent = df[\"Month\"].value_counts(normalize=True)\n",
        "print(df_Month_Percent)"
      ],
      "metadata": {
        "colab": {
          "base_uri": "https://localhost:8080/"
        },
        "id": "heI_iMnJK1TE",
        "outputId": "da12387a-cb8c-44db-aa42-15427d7964c6"
      },
      "execution_count": 90,
      "outputs": [
        {
          "output_type": "stream",
          "name": "stdout",
          "text": [
            "August    0.378566\n",
            "July      0.333158\n",
            "June      0.288275\n",
            "Name: Month, dtype: float64\n"
          ]
        }
      ]
    },
    {
      "cell_type": "code",
      "source": [
        "#Creating pie chart showing percentage breakout of rides by month\n",
        "data = [0.378566, 0.333158, 0.288275]\n",
        "labels = ['August', 'July', 'June']\n",
        "colors = sns.color_palette('Blues')\n",
        "plot.pie(data, labels = labels, colors = colors, startangle = 90, autopct='%.0f%%', radius=2)"
      ],
      "metadata": {
        "colab": {
          "base_uri": "https://localhost:8080/",
          "height": 550
        },
        "id": "FOSqNwPDUP_G",
        "outputId": "36955bf2-fdd5-4bc1-97e6-d93706597ccb"
      },
      "execution_count": 91,
      "outputs": [
        {
          "output_type": "execute_result",
          "data": {
            "text/plain": [
              "([<matplotlib.patches.Wedge at 0x7f06ba8eb990>,\n",
              "  <matplotlib.patches.Wedge at 0x7f06ba8f6150>,\n",
              "  <matplotlib.patches.Wedge at 0x7f06ba8f69d0>],\n",
              " [Text(-2.0418389981238794, 0.8190808908407488, 'August'),\n",
              "  Text(0.6157047980464649, -2.1120860781849213, 'July'),\n",
              "  Text(1.731016907420168, 1.357785132569037, 'June')],\n",
              " [Text(-1.1137303626130248, 0.4467713950040448, '38%'),\n",
              "  Text(0.3358389807526172, -1.1520469517372298, '33%'),\n",
              "  Text(0.9441910404110007, 0.7406100723103838, '29%')])"
            ]
          },
          "metadata": {},
          "execution_count": 91
        },
        {
          "output_type": "display_data",
          "data": {
            "image/png": "[encoded data removed]",
            "text/plain": [
              "<Figure size 432x288 with 1 Axes>"
            ]
          },
          "metadata": {}
        }
      ]
    },
    {
      "cell_type": "code",
      "source": [
        "#Creating a new dataframe of the monthly ride counts\n",
        "dict_month_counts = {\"Month\" : [\"June\", \"July\", \"August\"],\n",
        "                     \"Number of Trips\" : [71428, 82549, 93800]}"
      ],
      "metadata": {
        "id": "jIp9QfKBOWKi"
      },
      "execution_count": 92,
      "outputs": []
    },
    {
      "cell_type": "code",
      "source": [
        "df_month_counts = pd.DataFrame(dict_month_counts)"
      ],
      "metadata": {
        "id": "TUrjONOGLL0r"
      },
      "execution_count": 93,
      "outputs": []
    },
    {
      "cell_type": "code",
      "source": [
        "print(df_month_counts)"
      ],
      "metadata": {
        "colab": {
          "base_uri": "https://localhost:8080/"
        },
        "id": "MRfWZzXzMmOS",
        "outputId": "1f69eeb0-72bc-4548-f609-6e8fde778084"
      },
      "execution_count": 94,
      "outputs": [
        {
          "output_type": "stream",
          "name": "stdout",
          "text": [
            "    Month  Number of Trips\n",
            "0    June            71428\n",
            "1    July            82549\n",
            "2  August            93800\n"
          ]
        }
      ]
    },
    {
      "cell_type": "code",
      "source": [
        "sns.barplot(x=\"Month\", y= \"Number of Trips\", data=df_month_counts, palette = \"Blues\").set(title=\"Total Rides by Month\")"
      ],
      "metadata": {
        "colab": {
          "base_uri": "https://localhost:8080/",
          "height": 313
        },
        "id": "G26Ng3yHROng",
        "outputId": "8f1ae55d-7d70-40f3-bc4e-4791441c99f7"
      },
      "execution_count": 95,
      "outputs": [
        {
          "output_type": "execute_result",
          "data": {
            "text/plain": [
              "[Text(0.5, 1.0, 'Total Rides by Month')]"
            ]
          },
          "metadata": {},
          "execution_count": 95
        },
        {
          "output_type": "display_data",
          "data": {
            "image/png": "[encoded data removed]",
            "text/plain": [
              "<Figure size 432x288 with 1 Axes>"
            ]
          },
          "metadata": {
            "needs_background": "light"
          }
        }
      ]
    },
    {
      "cell_type": "code",
      "source": [
        "#Finding the month over month percent change from beginning of Summer (June) to the end (August)\n",
        "df_percent_change = df_month_counts.set_index(\"Month\")\n",
        "j, a = df_percent_change.iloc[0], df_percent_change.iloc[-1]\n",
        "df_percent_change = df_percent_change.append(((a/j)-1).rename('June_Aug_PercChng'))\n",
        "print(df_percent_change)"
      ],
      "metadata": {
        "colab": {
          "base_uri": "https://localhost:8080/"
        },
        "id": "EJpwboCjTvcz",
        "outputId": "4d45a9ca-3ca8-447f-ea00-31fcb8174b91"
      },
      "execution_count": 96,
      "outputs": [
        {
          "output_type": "stream",
          "name": "stdout",
          "text": [
            "                   Number of Trips\n",
            "Month                             \n",
            "June                  71428.000000\n",
            "July                  82549.000000\n",
            "August                93800.000000\n",
            "June_Aug_PercChng         0.313211\n"
          ]
        }
      ]
    },
    {
      "cell_type": "code",
      "source": [
        "#Finding the month over month percent change\n",
        "df_percent_change.pct_change()"
      ],
      "metadata": {
        "colab": {
          "base_uri": "https://localhost:8080/",
          "height": 206
        },
        "id": "pWmWH6T713-Y",
        "outputId": "7fc484e8-b2c5-4cc5-abd8-9042940bf2c5"
      },
      "execution_count": 97,
      "outputs": [
        {
          "output_type": "execute_result",
          "data": {
            "text/html": [
              "\n",
              "  <div id=\"df-0dea01e8-8400-42fd-bf35-04116264d2fb\">\n",
              "    <div class=\"colab-df-container\">\n",
              "      <div>\n",
              "<style scoped>\n",
              "    .dataframe tbody tr th:only-of-type {\n",
              "        vertical-align: middle;\n",
              "    }\n",
              "\n",
              "    .dataframe tbody tr th {\n",
              "        vertical-align: top;\n",
              "    }\n",
              "\n",
              "    .dataframe thead th {\n",
              "        text-align: right;\n",
              "    }\n",
              "</style>\n",
              "<table border=\"1\" class=\"dataframe\">\n",
              "  <thead>\n",
              "    <tr style=\"text-align: right;\">\n",
              "      <th></th>\n",
              "      <th>Number of Trips</th>\n",
              "    </tr>\n",
              "    <tr>\n",
              "      <th>Month</th>\n",
              "      <th></th>\n",
              "    </tr>\n",
              "  </thead>\n",
              "  <tbody>\n",
              "    <tr>\n",
              "      <th>June</th>\n",
              "      <td>NaN</td>\n",
              "    </tr>\n",
              "    <tr>\n",
              "      <th>July</th>\n",
              "      <td>0.155695</td>\n",
              "    </tr>\n",
              "    <tr>\n",
              "      <th>August</th>\n",
              "      <td>0.136295</td>\n",
              "    </tr>\n",
              "    <tr>\n",
              "      <th>June_Aug_PercChng</th>\n",
              "      <td>-0.999997</td>\n",
              "    </tr>\n",
              "  </tbody>\n",
              "</table>\n",
              "</div>\n",
              "      <button class=\"colab-df-convert\" onclick=\"convertToInteractive('df-0dea01e8-8400-42fd-bf35-04116264d2fb')\"\n",
              "              title=\"Convert this dataframe to an interactive table.\"\n",
              "              style=\"display:none;\">\n",
              "        \n",
              "  <svg xmlns=\"http://www.w3.org/2000/svg\" height=\"24px\"viewBox=\"0 0 24 24\"\n",
              "       width=\"24px\">\n",
              "    <path d=\"M0 0h24v24H0V0z\" fill=\"none\"/>\n",
              "    <path d=\"M18.56 5.44l.94 2.06.94-2.06 2.06-.94-2.06-.94-.94-2.06-.94 2.06-2.06.94zm-11 1L8.5 8.5l.94-2.06 2.06-.94-2.06-.94L8.5 2.5l-.94 2.06-2.06.94zm10 10l.94 2.06.94-2.06 2.06-.94-2.06-.94-.94-2.06-.94 2.06-2.06.94z\"/><path d=\"M17.41 7.96l-1.37-1.37c-.4-.4-.92-.59-1.43-.59-.52 0-1.04.2-1.43.59L10.3 9.45l-7.72 7.72c-.78.78-.78 2.05 0 2.83L4 21.41c.39.39.9.59 1.41.59.51 0 1.02-.2 1.41-.59l7.78-7.78 2.81-2.81c.8-.78.8-2.07 0-2.86zM5.41 20L4 18.59l7.72-7.72 1.47 1.35L5.41 20z\"/>\n",
              "  </svg>\n",
              "      </button>\n",
              "      \n",
              "  <style>\n",
              "    .colab-df-container {\n",
              "      display:flex;\n",
              "      flex-wrap:wrap;\n",
              "      gap: 12px;\n",
              "    }\n",
              "\n",
              "    .colab-df-convert {\n",
              "      background-color: #E8F0FE;\n",
              "      border: none;\n",
              "      border-radius: 50%;\n",
              "      cursor: pointer;\n",
              "      display: none;\n",
              "      fill: #1967D2;\n",
              "      height: 32px;\n",
              "      padding: 0 0 0 0;\n",
              "      width: 32px;\n",
              "    }\n",
              "\n",
              "    .colab-df-convert:hover {\n",
              "      background-color: #E2EBFA;\n",
              "      box-shadow: 0px 1px 2px rgba(60, 64, 67, 0.3), 0px 1px 3px 1px rgba(60, 64, 67, 0.15);\n",
              "      fill: #174EA6;\n",
              "    }\n",
              "\n",
              "    [theme=dark] .colab-df-convert {\n",
              "      background-color: #3B4455;\n",
              "      fill: #D2E3FC;\n",
              "    }\n",
              "\n",
              "    [theme=dark] .colab-df-convert:hover {\n",
              "      background-color: #434B5C;\n",
              "      box-shadow: 0px 1px 3px 1px rgba(0, 0, 0, 0.15);\n",
              "      filter: drop-shadow(0px 1px 2px rgba(0, 0, 0, 0.3));\n",
              "      fill: #FFFFFF;\n",
              "    }\n",
              "  </style>\n",
              "\n",
              "      <script>\n",
              "        const buttonEl =\n",
              "          document.querySelector('#df-0dea01e8-8400-42fd-bf35-04116264d2fb button.colab-df-convert');\n",
              "        buttonEl.style.display =\n",
              "          google.colab.kernel.accessAllowed ? 'block' : 'none';\n",
              "\n",
              "        async function convertToInteractive(key) {\n",
              "          const element = document.querySelector('#df-0dea01e8-8400-42fd-bf35-04116264d2fb');\n",
              "          const dataTable =\n",
              "            await google.colab.kernel.invokeFunction('convertToInteractive',\n",
              "                                                     [key], {});\n",
              "          if (!dataTable) return;\n",
              "\n",
              "          const docLinkHtml = 'Like what you see? Visit the ' +\n",
              "            '<a target=\"_blank\" href=https://colab.research.google.com/notebooks/data_table.ipynb>data table notebook</a>'\n",
              "            + ' to learn more about interactive tables.';\n",
              "          element.innerHTML = '';\n",
              "          dataTable['output_type'] = 'display_data';\n",
              "          await google.colab.output.renderOutput(dataTable, element);\n",
              "          const docLink = document.createElement('div');\n",
              "          docLink.innerHTML = docLinkHtml;\n",
              "          element.appendChild(docLink);\n",
              "        }\n",
              "      </script>\n",
              "    </div>\n",
              "  </div>\n",
              "  "
            ],
            "text/plain": [
              "                   Number of Trips\n",
              "Month                             \n",
              "June                           NaN\n",
              "July                      0.155695\n",
              "August                    0.136295\n",
              "June_Aug_PercChng        -0.999997"
            ]
          },
          "metadata": {},
          "execution_count": 97
        }
      ]
    },
    {
      "cell_type": "markdown",
      "source": [
        "**In terms of Summer ridership, August saw the greatest number of unique rides taken (93,800 or 38% of total ridership) which was a 31% increase from the beginning of the summer (June). Ridership increased each month, up ~16% from June to July, and up ~14% from July to August.**"
      ],
      "metadata": {
        "id": "yUKK489NTnqz"
      }
    },
    {
      "cell_type": "code",
      "source": [
        "#Converting the data type for \"Date Started\" and \"Date Ended\" columns from Object/String to DateTime\n",
        "df['Date_Started'] = pd.to_datetime(df[\"Date_Started\"], format=\"%d-%b-%y\")\n",
        "df[\"Date_Ended\"] = pd.to_datetime(df[\"Date_Ended\"], format=\"%d-%b-%y\")"
      ],
      "metadata": {
        "id": "LJ58PFPdLLtS"
      },
      "execution_count": 115,
      "outputs": []
    },
    {
      "cell_type": "code",
      "source": [
        "#Finding the highest number of rides and lowest number of rides per day\n",
        "date_pivot = df.pivot_table(values=\"ride_id\", index=\"Date_Started\", aggfunc=pd.Series.nunique)\n",
        "print(date_pivot.max())\n",
        "print(date_pivot.min())"
      ],
      "metadata": {
        "colab": {
          "base_uri": "https://localhost:8080/"
        },
        "id": "8a0xja3Yyxl_",
        "outputId": "5e241813-5a49-4c7a-9f6b-6bad68de5d16"
      },
      "execution_count": 152,
      "outputs": [
        {
          "output_type": "stream",
          "name": "stdout",
          "text": [
            "ride_id    3725\n",
            "dtype: int64\n",
            "ride_id    395\n",
            "dtype: int64\n"
          ]
        }
      ]
    },
    {
      "cell_type": "code",
      "source": [
        "#Creating pivot table of count of rides (ride_id) by Date_Started and then creating a bar graph of the results\n",
        "date_pivot = df.pivot_table(values=\"ride_id\", index=\"Date_Started\", aggfunc=pd.Series.nunique)\n",
        "date_pivot.plot(kind=\"bar\", legend=None)\n",
        "print(plot.xticks([1, 3, 6, 9, 12, 15, 18, 21, 24, 27, 30, 33, 36, 39, 42, 45, 48, 51, 54, 57, 60, 63, 66, 69, 72, 75, 78, 81, 84, 87, 90], [\"1-Jun\", \"3-Jun\", \"6-Jun\", \"9-Jun\", \"12-Jun\", \"15-Jun\", \"18-Jun\", \"21-Jun\", \"24-Jun\", \"27-Jun\", \"30-Jun\", \"3-Jul\", \"6-Jul\", \"9-Jul\", \"12-Jul\", \"15-Jul\", \"18-Jul\", \"21-Jul\", \"24-Jul\", \"27-Jul\", \"30-Jul\", \"2-Aug\", \"5-Aug\", \"8-Aug\", \"11-Aug\", \"14-Aug\", \"17-Aug\", \"20-Aug\", \"23-Aug\", \"26-Aug\", \"29-Aug\"]))\n",
        "plot.xlabel(\"Day of Ride\")\n",
        "plot.ylabel(\"Number of Rides\")\n",
        "plot.title(\"Daily Rides\")"
      ],
      "metadata": {
        "colab": {
          "base_uri": "https://localhost:8080/",
          "height": 376
        },
        "id": "5ZrW7bV9iIWV",
        "outputId": "50e79f2e-95aa-4fdc-b30f-f7d94503d312"
      },
      "execution_count": 144,
      "outputs": [
        {
          "output_type": "stream",
          "name": "stdout",
          "text": [
            "([<matplotlib.axis.XTick object at 0x7f06b7ae9990>, <matplotlib.axis.XTick object at 0x7f06b7ae9490>, <matplotlib.axis.XTick object at 0x7f06b7ae2790>, <matplotlib.axis.XTick object at 0x7f06b77e2390>, <matplotlib.axis.XTick object at 0x7f06b7533f50>, <matplotlib.axis.XTick object at 0x7f06b7aaa490>, <matplotlib.axis.XTick object at 0x7f06b77f9910>, <matplotlib.axis.XTick object at 0x7f06b730db50>, <matplotlib.axis.XTick object at 0x7f06b75193d0>, <matplotlib.axis.XTick object at 0x7f06b7519a10>, <matplotlib.axis.XTick object at 0x7f06b7519b50>, <matplotlib.axis.XTick object at 0x7f06bd879650>, <matplotlib.axis.XTick object at 0x7f06b7852e90>, <matplotlib.axis.XTick object at 0x7f06b7348b10>, <matplotlib.axis.XTick object at 0x7f06b7348fd0>, <matplotlib.axis.XTick object at 0x7f06b77f95d0>, <matplotlib.axis.XTick object at 0x7f06b7aaad10>, <matplotlib.axis.XTick object at 0x7f06b732b490>, <matplotlib.axis.XTick object at 0x7f06b7858a10>, <matplotlib.axis.XTick object at 0x7f06b7855410>, <matplotlib.axis.XTick object at 0x7f06b732b690>, <matplotlib.axis.XTick object at 0x7f06b6f01c50>, <matplotlib.axis.XTick object at 0x7f06b6f01450>, <matplotlib.axis.XTick object at 0x7f06b6f01690>, <matplotlib.axis.XTick object at 0x7f06b7487650>, <matplotlib.axis.XTick object at 0x7f06b786a710>, <matplotlib.axis.XTick object at 0x7f06b7519350>, <matplotlib.axis.XTick object at 0x7f06b6e9f390>, <matplotlib.axis.XTick object at 0x7f06b6e9f2d0>, <matplotlib.axis.XTick object at 0x7f06b700b090>, <matplotlib.axis.XTick object at 0x7f06b7ca6790>], [Text(0, 0, '1-Jun'), Text(0, 0, '3-Jun'), Text(0, 0, '6-Jun'), Text(0, 0, '9-Jun'), Text(0, 0, '12-Jun'), Text(0, 0, '15-Jun'), Text(0, 0, '18-Jun'), Text(0, 0, '21-Jun'), Text(0, 0, '24-Jun'), Text(0, 0, '27-Jun'), Text(0, 0, '30-Jun'), Text(0, 0, '3-Jul'), Text(0, 0, '6-Jul'), Text(0, 0, '9-Jul'), Text(0, 0, '12-Jul'), Text(0, 0, '15-Jul'), Text(0, 0, '18-Jul'), Text(0, 0, '21-Jul'), Text(0, 0, '24-Jul'), Text(0, 0, '27-Jul'), Text(0, 0, '30-Jul'), Text(0, 0, '2-Aug'), Text(0, 0, '5-Aug'), Text(0, 0, '8-Aug'), Text(0, 0, '11-Aug'), Text(0, 0, '14-Aug'), Text(0, 0, '17-Aug'), Text(0, 0, '20-Aug'), Text(0, 0, '23-Aug'), Text(0, 0, '26-Aug'), Text(0, 0, '29-Aug')])\n"
          ]
        },
        {
          "output_type": "execute_result",
          "data": {
            "text/plain": [
              "Text(0.5, 1.0, 'Daily Rides')"
            ]
          },
          "metadata": {},
          "execution_count": 144
        },
        {
          "output_type": "display_data",
          "data": {
            "image/png": "[encoded data removed]",
            "text/plain": [
              "<Figure size 432x288 with 1 Axes>"
            ]
          },
          "metadata": {
            "needs_background": "light"
          }
        }
      ]
    },
    {
      "cell_type": "markdown",
      "source": [
        "**The lowest number of rides (395) looks to have come around August 21st or 22nd. The highest number of rides (3,725) looks to have come around July 31st**"
      ],
      "metadata": {
        "id": "LY7sf2hE0lTQ"
      }
    },
    {
      "cell_type": "code",
      "source": [
        "#Finding the top TO destination\n",
        "df_to_station = df.groupby(\"To_Station\")[\"ride_id\"].count()\n",
        "df_to_station.sort_values(ascending=False)"
      ],
      "metadata": {
        "colab": {
          "base_uri": "https://localhost:8080/"
        },
        "id": "-a1rusqURuBW",
        "outputId": "debd72ba-e7d1-4068-f4dd-a6a588228077"
      },
      "execution_count": 102,
      "outputs": [
        {
          "output_type": "execute_result",
          "data": {
            "text/plain": [
              "To_Station\n",
              "South Waterfront Walkway - Sinatra Dr & 1 St    13962\n",
              "Hoboken Terminal - Hudson St & Hudson Pl        11535\n",
              "Grove St PATH                                   10331\n",
              "Newport Pkwy                                     8489\n",
              "Hamilton Park                                    6810\n",
              "                                                ...  \n",
              "W 31 St & 7 Ave                                     1\n",
              "Reade St & Broadway                                 1\n",
              "W 35 St & Dyer Ave                                  1\n",
              "Broadway & W 160 St                                 1\n",
              "1 Ave & E 6 St                                      1\n",
              "Name: ride_id, Length: 170, dtype: int64"
            ]
          },
          "metadata": {},
          "execution_count": 102
        }
      ]
    },
    {
      "cell_type": "markdown",
      "source": [
        "**South Waterfront Walkway - Sinatra Dr & 1st was the highest destination station from June throuhg August (13,962 trips)**"
      ],
      "metadata": {
        "id": "3eUi3yrvSJ0V"
      }
    },
    {
      "cell_type": "code",
      "source": [
        "#Finding the top FROM destination\n",
        "df_from_station = df.groupby(\"From_Station\")[\"ride_id\"].count()\n",
        "df_from_station.sort_values(ascending=False)"
      ],
      "metadata": {
        "colab": {
          "base_uri": "https://localhost:8080/"
        },
        "id": "PlBi4_2_Xch6",
        "outputId": "e19d37e0-3dde-4350-e34a-88ed4eea23a3"
      },
      "execution_count": 103,
      "outputs": [
        {
          "output_type": "execute_result",
          "data": {
            "text/plain": [
              "From_Station\n",
              "South Waterfront Walkway - Sinatra Dr & 1 St    13890\n",
              "Hoboken Terminal - Hudson St & Hudson Pl        11361\n",
              "Grove St PATH                                    9890\n",
              "Newport Pkwy                                     8500\n",
              "Hamilton Park                                    6794\n",
              "                                                ...  \n",
              "Jackson Square                                    676\n",
              "2 St HBLR - 2 St & Marshall St                    516\n",
              "Bergen Ave & Stegman St                           322\n",
              "Grant Ave & MLK Dr                                113\n",
              "JCBS Depot                                          2\n",
              "Name: ride_id, Length: 78, dtype: int64"
            ]
          },
          "metadata": {},
          "execution_count": 103
        }
      ]
    },
    {
      "cell_type": "markdown",
      "source": [
        "**South Waterfront Walkway - Sinatra Dr & 1st was the highest FROM station for Member and Non-Member trips combined (13,890 trips)**"
      ],
      "metadata": {
        "id": "ZY-dYNcLXqB9"
      }
    },
    {
      "cell_type": "markdown",
      "source": [
        "**EXPLORING MEMBER TYPE DATA**"
      ],
      "metadata": {
        "id": "hfab0jRj4R1f"
      }
    },
    {
      "cell_type": "markdown",
      "source": [
        "**Question 2: How did ridership differ between Members and Non-Members?**"
      ],
      "metadata": {
        "id": "fj1ziSQn2Hi9"
      }
    },
    {
      "cell_type": "code",
      "source": [
        "#Finding the count of rides by member type\n",
        "Member_Rides = df[df[\"Member Type\"] == \"Member\"].count()\n",
        "Non_Member_Rides = df[df[\"Member Type\"] == \"Non-Member\"].count()\n",
        "print(Member_Rides)\n",
        "print(Non_Member_Rides)\n"
      ],
      "metadata": {
        "colab": {
          "base_uri": "https://localhost:8080/"
        },
        "id": "itmlw360g_Fa",
        "outputId": "f7d40908-fea4-41d8-d1bb-38d49cf2fd58"
      },
      "execution_count": 98,
      "outputs": [
        {
          "output_type": "stream",
          "name": "stdout",
          "text": [
            "Month                  119913\n",
            "Year                   119913\n",
            "ride_id                119913\n",
            "Bike Type              119913\n",
            "Date_Started           119913\n",
            "Date_Ended             119913\n",
            "Time_Started           119913\n",
            "Time_Ended             119913\n",
            "Trip Duration hh:mm    119913\n",
            "From_Station           119913\n",
            "To_Station             119358\n",
            "Member Type            119913\n",
            "dtype: int64\n",
            "Month                  127864\n",
            "Year                   127864\n",
            "ride_id                127864\n",
            "Bike Type              127864\n",
            "Date_Started           127864\n",
            "Date_Ended             127864\n",
            "Time_Started           127864\n",
            "Time_Ended             127864\n",
            "Trip Duration hh:mm    127864\n",
            "From_Station           127864\n",
            "To_Station             127121\n",
            "Member Type            127864\n",
            "dtype: int64\n"
          ]
        }
      ]
    },
    {
      "cell_type": "code",
      "source": [
        "df.shape"
      ],
      "metadata": {
        "colab": {
          "base_uri": "https://localhost:8080/"
        },
        "id": "1H9XAp8GWIom",
        "outputId": "aa3bb84a-8268-4ae4-8881-9cb454657601"
      },
      "execution_count": 99,
      "outputs": [
        {
          "output_type": "execute_result",
          "data": {
            "text/plain": [
              "(247777, 12)"
            ]
          },
          "metadata": {},
          "execution_count": 99
        }
      ]
    },
    {
      "cell_type": "code",
      "source": [
        "#Finding percent of total rides breakout by member type\n",
        "member_trips = 119913\n",
        "nonmember_trips = 127864\n",
        "total_trips = 247777\n",
        "total_trips_member_perct = member_trips/total_trips\n",
        "total_trips_nonmember_perct = nonmember_trips/total_trips\n",
        "print(total_trips_member_perct)\n",
        "print(total_trips_nonmember_perct)"
      ],
      "metadata": {
        "colab": {
          "base_uri": "https://localhost:8080/"
        },
        "id": "mSWcvdZ4WLMy",
        "outputId": "23690b3f-afec-4cac-d24d-6e5b2c163dbc"
      },
      "execution_count": 100,
      "outputs": [
        {
          "output_type": "stream",
          "name": "stdout",
          "text": [
            "0.48395533080148684\n",
            "0.5160446691985132\n"
          ]
        }
      ]
    },
    {
      "cell_type": "markdown",
      "source": [
        "**Citi Bike Members took 119,913 rides from June to August while Non-Members took 127,864 rides**"
      ],
      "metadata": {
        "id": "OrxfU1vURVAL"
      }
    },
    {
      "cell_type": "code",
      "source": [
        "df.columns"
      ],
      "metadata": {
        "colab": {
          "base_uri": "https://localhost:8080/"
        },
        "id": "v39jbAtcLDrO",
        "outputId": "3820f80e-ebd4-48ff-94a0-e9e5a9578915"
      },
      "execution_count": 101,
      "outputs": [
        {
          "output_type": "execute_result",
          "data": {
            "text/plain": [
              "Index(['Month', 'Year', 'ride_id', 'Bike Type', 'Date_Started', 'Date_Ended',\n",
              "       'Time_Started', 'Time_Ended', 'Trip Duration hh:mm', 'From_Station',\n",
              "       'To_Station', 'Member Type'],\n",
              "      dtype='object')"
            ]
          },
          "metadata": {},
          "execution_count": 101
        }
      ]
    },
    {
      "cell_type": "code",
      "source": [
        "#Setting Index as Member Type so I can subset\n",
        "df_member_index = df.set_index(\"Member Type\")"
      ],
      "metadata": {
        "id": "7bl5aFqwg85q"
      },
      "execution_count": 104,
      "outputs": []
    },
    {
      "cell_type": "code",
      "source": [
        "#Looking for the Top 3 \"To Stations\" for Members\n",
        "df_Members = df_member_index.loc[\"Member\"]\n",
        "df_Members_To_Station = df_Members.groupby(\"To_Station\")[\"ride_id\"].count()\n",
        "df_Members_To_Station.sort_values(ascending=False)"
      ],
      "metadata": {
        "colab": {
          "base_uri": "https://localhost:8080/"
        },
        "id": "-kfAnnEMk9v5",
        "outputId": "8551342f-3028-4e71-9a32-a6255ddbed5b"
      },
      "execution_count": 105,
      "outputs": [
        {
          "output_type": "execute_result",
          "data": {
            "text/plain": [
              "To_Station\n",
              "Grove St PATH                                   6899\n",
              "Hoboken Terminal - Hudson St & Hudson Pl        4812\n",
              "South Waterfront Walkway - Sinatra Dr & 1 St    4110\n",
              "Newport Pkwy                                    4072\n",
              "Hamilton Park                                   3978\n",
              "                                                ... \n",
              "Schermerhorn St & Court St                         1\n",
              "South St & Gouverneur Ln                           1\n",
              "St Marks Pl & 1 Ave                                1\n",
              "Broadway & W 155 St                                1\n",
              "1 Ave & E 6 St                                     1\n",
              "Name: ride_id, Length: 132, dtype: int64"
            ]
          },
          "metadata": {},
          "execution_count": 105
        }
      ]
    },
    {
      "cell_type": "markdown",
      "source": [
        "**Top 3 \"To Station\" for Members are:**\n",
        "\n",
        "\n",
        "**1.   Grove St Path (6,899)**\n",
        "\n",
        "**2.   Hoboken Terminal - Hudson St & Hudson Pl (4,812)**\n",
        "\n",
        "**3.   South Waterfront Walkway - Sinatra Dr & 1 St (4,110)**\n",
        "\n"
      ],
      "metadata": {
        "id": "ZbzYuy2Fmd8Z"
      }
    },
    {
      "cell_type": "code",
      "source": [
        "#Looking for the Top 3 \"To Stations\" for Non-Members\n",
        "df_NonMembers = df_member_index.loc[\"Non-Member\"]\n",
        "df_NonMembers_To_Station = df_NonMembers.groupby(\"To_Station\")[\"ride_id\"].count()\n",
        "df_NonMembers_To_Station.sort_values(ascending=False)"
      ],
      "metadata": {
        "colab": {
          "base_uri": "https://localhost:8080/"
        },
        "id": "0VDpBIM-o2lL",
        "outputId": "ee03d13b-4bc1-4032-d944-420f98e9721b"
      },
      "execution_count": 106,
      "outputs": [
        {
          "output_type": "execute_result",
          "data": {
            "text/plain": [
              "To_Station\n",
              "South Waterfront Walkway - Sinatra Dr & 1 St    9852\n",
              "Hoboken Terminal - Hudson St & Hudson Pl        6723\n",
              "14 St Ferry - 14 St & Shipyard Ln               4446\n",
              "Newport Pkwy                                    4417\n",
              "11 St & Washington St                           4068\n",
              "                                                ... \n",
              "W 181 St & Riverside Dr                            1\n",
              "E 88 St & Park Ave                                 1\n",
              "Schermerhorn St & Court St                         1\n",
              "Fort Washington Ave & W 183 St                     1\n",
              "10 Ave & W 14 St                                   1\n",
              "Name: ride_id, Length: 129, dtype: int64"
            ]
          },
          "metadata": {},
          "execution_count": 106
        }
      ]
    },
    {
      "cell_type": "markdown",
      "source": [
        "**Top 3 \"To Station\" for Non-Members are:**\n",
        "\n",
        "\n",
        "**1.   South Waterfront Walkway - Sinatra Dr & 1 St (9,852)**\n",
        "\n",
        "**2.   Hoboken Terminal - Hudson St & Hudson Pl (6,723)**\n",
        "\n",
        "**3.   14 St Ferry - 14 St & Shipyard Ln (4,446)**"
      ],
      "metadata": {
        "id": "z5SYdKlepFXZ"
      }
    },
    {
      "cell_type": "code",
      "source": [
        "#Finding percent of total trips taken to the top TO destination by member type\n",
        "member = 4110\n",
        "non_member = 9852\n",
        "total = 13962\n",
        "member_to_station_perct = member/total\n",
        "nonmember_to_station_perct = non_member/total\n",
        "print(member_to_station_perct)\n",
        "print(nonmember_to_station_perct)"
      ],
      "metadata": {
        "colab": {
          "base_uri": "https://localhost:8080/"
        },
        "id": "ukZIl9KySe1L",
        "outputId": "fff76738-96d9-4fcc-9aaf-c46dcc3d112b"
      },
      "execution_count": 107,
      "outputs": [
        {
          "output_type": "stream",
          "name": "stdout",
          "text": [
            "0.2943704340352385\n",
            "0.7056295659647615\n"
          ]
        }
      ]
    },
    {
      "cell_type": "code",
      "source": [
        "#Looking for the Top 3 \"From Stations\" for Members\n",
        "df_Members = df_member_index.loc[\"Member\"]\n",
        "df_Members_From_Station = df_Members.groupby(\"From_Station\")[\"ride_id\"].count()\n",
        "df_Members_From_Station.sort_values(ascending=False)"
      ],
      "metadata": {
        "colab": {
          "base_uri": "https://localhost:8080/"
        },
        "id": "GcqkgQzV40b-",
        "outputId": "0a40da25-a737-475d-bf95-aec9b5064ebb"
      },
      "execution_count": 108,
      "outputs": [
        {
          "output_type": "execute_result",
          "data": {
            "text/plain": [
              "From_Station\n",
              "Grove St PATH                                   6547\n",
              "Hoboken Terminal - Hudson St & Hudson Pl        4865\n",
              "South Waterfront Walkway - Sinatra Dr & 1 St    4391\n",
              "Hamilton Park                                   4067\n",
              "Newport Pkwy                                    4034\n",
              "                                                ... \n",
              "2 St HBLR - 2 St & Marshall St                   210\n",
              "Union St                                         198\n",
              "Bergen Ave & Stegman St                           52\n",
              "Grant Ave & MLK Dr                                27\n",
              "JCBS Depot                                         2\n",
              "Name: ride_id, Length: 78, dtype: int64"
            ]
          },
          "metadata": {},
          "execution_count": 108
        }
      ]
    },
    {
      "cell_type": "markdown",
      "source": [
        "**Top 3 \"From Station\" for Members are:**\n",
        "\n",
        "\n",
        "**1.   Grove St Path (6,547)**\n",
        "\n",
        "**2.   Hoboken Terminal - Hudson St & Hudson Pl (4,865)**\n",
        "\n",
        "**3.   South Waterfront Walkway - Sinatra Dr & 1 St (4,391)**"
      ],
      "metadata": {
        "id": "5QXL64R_5CDj"
      }
    },
    {
      "cell_type": "code",
      "source": [
        "#Looking for the Top 3 \"From Stations\" for Non-Members\n",
        "df_NonMembers = df_member_index.loc[\"Non-Member\"]\n",
        "df_NonMembers_From_Station = df_NonMembers.groupby(\"From_Station\")[\"ride_id\"].count()\n",
        "df_NonMembers_From_Station.sort_values(ascending=False)"
      ],
      "metadata": {
        "colab": {
          "base_uri": "https://localhost:8080/"
        },
        "id": "GZoHRRrM5QEc",
        "outputId": "789bb702-c3dc-4869-e5c7-2adfa880ebeb"
      },
      "execution_count": 109,
      "outputs": [
        {
          "output_type": "execute_result",
          "data": {
            "text/plain": [
              "From_Station\n",
              "South Waterfront Walkway - Sinatra Dr & 1 St    9499\n",
              "Hoboken Terminal - Hudson St & Hudson Pl        6496\n",
              "Newport Pkwy                                    4466\n",
              "14 St Ferry - 14 St & Shipyard Ln               4357\n",
              "11 St & Washington St                           4114\n",
              "                                                ... \n",
              "2 St HBLR - 2 St & Marshall St                   306\n",
              "Glenwood Ave                                     298\n",
              "Bergen Ave & Stegman St                          270\n",
              "Dey St                                           265\n",
              "Grant Ave & MLK Dr                                86\n",
              "Name: ride_id, Length: 77, dtype: int64"
            ]
          },
          "metadata": {},
          "execution_count": 109
        }
      ]
    },
    {
      "cell_type": "markdown",
      "source": [
        "**Top 3 \"From Station\" for Non-Members are:**\n",
        "\n",
        "\n",
        "**1.   South Waterfront Walkway - Sinatra Dr & 1 St (9,499)**\n",
        "\n",
        "**2.   Hoboken Terminal - Hudson St & Hudson Pl (6,496)**\n",
        "\n",
        "**3.   Newport Pkwy (4,466)**"
      ],
      "metadata": {
        "id": "Czpfwfw15oCq"
      }
    },
    {
      "cell_type": "code",
      "source": [
        "#Finding percent of total trips taken to the top FROM destination by member type\n",
        "member = 4110\n",
        "non_member = 9852\n",
        "total = 13962\n",
        "member_to_station_perct = member/total\n",
        "nonmember_to_station_perct = non_member/total\n",
        "print(member_to_station_perct)\n",
        "print(nonmember_to_station_perct)"
      ],
      "metadata": {
        "colab": {
          "base_uri": "https://localhost:8080/"
        },
        "id": "NcjwX34dXHJb",
        "outputId": "42757e8d-5614-49fb-dd93-e0cf682a40d6"
      },
      "execution_count": 110,
      "outputs": [
        {
          "output_type": "stream",
          "name": "stdout",
          "text": [
            "0.2943704340352385\n",
            "0.7056295659647615\n"
          ]
        }
      ]
    },
    {
      "cell_type": "code",
      "source": [
        "#Finding how many rides were between Members and Non-Members by Month\n",
        "df_membertype_month = df.groupby([\"Member Type\", \"Month\"])[\"ride_id\"].count()\n",
        "print(df_membertype_month)"
      ],
      "metadata": {
        "colab": {
          "base_uri": "https://localhost:8080/"
        },
        "id": "A8oSH_oWMkCv",
        "outputId": "f8af4a65-8e49-42e1-c73f-ae9c049e9ca9"
      },
      "execution_count": 111,
      "outputs": [
        {
          "output_type": "stream",
          "name": "stdout",
          "text": [
            "Member Type  Month \n",
            "Member       August    41031\n",
            "             July      41540\n",
            "             June      37342\n",
            "Non-Member   August    52769\n",
            "             July      41009\n",
            "             June      34086\n",
            "Name: ride_id, dtype: int64\n"
          ]
        }
      ]
    },
    {
      "cell_type": "code",
      "source": [
        "#Creating a new dataframe of the breakout of rides per month by member type\n",
        "df_rides_by_membertype_month = pd.DataFrame({'Member Type': ['Member', 'Member', 'Member', 'Non-Member', 'Non-Member', 'Non-Member'],\n",
        "                   'Month': ['August', 'July', 'June', 'August', 'July', 'June'],\n",
        "                   'Rides': [41031, 41540, 37342, 52769, 41009, 34086]})\n",
        "print(df_rides_by_membertype_month)"
      ],
      "metadata": {
        "colab": {
          "base_uri": "https://localhost:8080/"
        },
        "id": "mJrrSMWaq_Or",
        "outputId": "eab687a6-1941-4063-ac69-60d505c4f8f4"
      },
      "execution_count": 112,
      "outputs": [
        {
          "output_type": "stream",
          "name": "stdout",
          "text": [
            "  Member Type   Month  Rides\n",
            "0      Member  August  41031\n",
            "1      Member    July  41540\n",
            "2      Member    June  37342\n",
            "3  Non-Member  August  52769\n",
            "4  Non-Member    July  41009\n",
            "5  Non-Member    June  34086\n"
          ]
        }
      ]
    },
    {
      "cell_type": "code",
      "source": [
        "p = sns.barplot(x=\"Month\", y=\"Rides\", hue=\"Member Type\", palette=\"Blues\", data=df_rides_by_membertype_month)\n",
        "plot.legend(bbox_to_anchor=(1.05, 1), loc='upper left', borderaxespad=0)\n",
        "plot.title('Member Type Rides by Month', fontsize=10)"
      ],
      "metadata": {
        "colab": {
          "base_uri": "https://localhost:8080/",
          "height": 311
        },
        "id": "S0Vmu7ywrJBa",
        "outputId": "267837c2-eb0d-4c1d-f399-6e1e355ebe9f"
      },
      "execution_count": 113,
      "outputs": [
        {
          "output_type": "execute_result",
          "data": {
            "text/plain": [
              "Text(0.5, 1.0, 'Member Type Rides by Month')"
            ]
          },
          "metadata": {},
          "execution_count": 113
        },
        {
          "output_type": "display_data",
          "data": {
            "image/png": "[encoded data removed]",
            "text/plain": [
              "<Figure size 432x288 with 1 Axes>"
            ]
          },
          "metadata": {
            "needs_background": "light"
          }
        }
      ]
    },
    {
      "cell_type": "markdown",
      "source": [
        "**More Non-Members took rides in August, however Members edged out Non-Members in terms of ride count in June and July**"
      ],
      "metadata": {
        "id": "wO8LDmrOyRr5"
      }
    },
    {
      "cell_type": "code",
      "source": [
        "df.columns"
      ],
      "metadata": {
        "colab": {
          "base_uri": "https://localhost:8080/"
        },
        "id": "pS3srFD9Z0AA",
        "outputId": "3a01824d-0cd2-40f8-d791-ca9edf82b21f"
      },
      "execution_count": 114,
      "outputs": [
        {
          "output_type": "execute_result",
          "data": {
            "text/plain": [
              "Index(['Month', 'Year', 'ride_id', 'Bike Type', 'Date_Started', 'Date_Ended',\n",
              "       'Time_Started', 'Time_Ended', 'Trip Duration hh:mm', 'From_Station',\n",
              "       'To_Station', 'Member Type'],\n",
              "      dtype='object')"
            ]
          },
          "metadata": {},
          "execution_count": 114
        }
      ]
    },
    {
      "cell_type": "code",
      "source": [
        "#Creating pivot table of count of rides (ride_id) by Date_Started and Member Type \n",
        "membertype_date_pivot = df.pivot_table(values=\"ride_id\", index=\"Date_Started\", columns=\"Member Type\", aggfunc=pd.Series.nunique)\n",
        "print(membertype_date_pivot[\"Member\"].max())\n",
        "print(membertype_date_pivot[\"Non-Member\"].max())\n",
        "print(membertype_date_pivot[\"Member\"].min())\n",
        "print(membertype_date_pivot[\"Non-Member\"].min())"
      ],
      "metadata": {
        "colab": {
          "base_uri": "https://localhost:8080/"
        },
        "id": "CrIQD6mO3OsR",
        "outputId": "dc0f6b9e-edc0-447c-aff5-f3ec0ec32297"
      },
      "execution_count": 176,
      "outputs": [
        {
          "output_type": "stream",
          "name": "stdout",
          "text": [
            "1717\n",
            "2488\n",
            "111\n",
            "284\n"
          ]
        }
      ]
    },
    {
      "cell_type": "code",
      "source": [
        "membertype_date_pivot = df.pivot_table(values=\"ride_id\", index=\"Date_Started\", columns=\"Member Type\", aggfunc=pd.Series.nunique)\n",
        "date_pivot.plot(kind=\"line\")\n",
        "print(plot.xticks())\n",
        "plot.xlabel(\"Day of Ride\")\n",
        "plot.ylabel(\"Number of Rides\")\n",
        "plot.title(\"Daily Rides\")"
      ],
      "metadata": {
        "colab": {
          "base_uri": "https://localhost:8080/",
          "height": 342
        },
        "id": "_uUKE3ll1CK6",
        "outputId": "dc3907cd-49b6-4084-e5e0-9eddaba46565"
      },
      "execution_count": 175,
      "outputs": [
        {
          "output_type": "stream",
          "name": "stdout",
          "text": [
            "(array([18779, 18809, 18840, 18870]), <a list of 4 Text major ticklabel objects>)\n"
          ]
        },
        {
          "output_type": "execute_result",
          "data": {
            "text/plain": [
              "Text(0.5, 1.0, 'Daily Rides')"
            ]
          },
          "metadata": {},
          "execution_count": 175
        },
        {
          "output_type": "display_data",
          "data": {
            "image/png": "[encoded data removed]",
            "text/plain": [
              "<Figure size 432x288 with 1 Axes>"
            ]
          },
          "metadata": {
            "needs_background": "light"
          }
        }
      ]
    },
    {
      "cell_type": "markdown",
      "source": [
        "**Summary: Overall ridership increased throughout the Summer months, peaking in August, and although total rides were split evenly between Members and Non-Members, there was a spike in Non-Member usage in August, more than likey in line with an increase in late Summer tourism.**"
      ],
      "metadata": {
        "id": "gQccIHhFDGj-"
      }
    },
    {
      "cell_type": "markdown",
      "source": [
        "**Suggestions: Citi Bike could benefit from running an awareness or discount campaign at the beginning of Summer 2022 to increase ridership earlier on. They should also consider adding more docks or another station within the vacinity of South Waterfront Walkway to take advantage of the foot traffic in this area. Finally, they should consider partnering with coffee shops, restaurants, and hotels near the top traffiked stations, especially around the end of the Summer, to build awarenss among late Summer tourists, and offer membership incentives (free coffee, discounts, etc. for Citi Bike Members) to encourage convertion of local Non-Members who may be more inclined to use the bikes after taking the PATH train to and from the city.**"
      ],
      "metadata": {
        "id": "bAysEhazDlxt"
      }
    }
  ]
}